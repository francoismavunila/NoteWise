{
 "cells": [
  {
   "cell_type": "code",
   "execution_count": 30,
   "metadata": {},
   "outputs": [],
   "source": [
    "from langchain_community.tools.tavily_search import TavilySearchResults\n",
    "from langchain_openai import ChatOpenAI\n",
    "from langchain_core.messages import HumanMessage\n",
    "from langgraph.prebuilt import create_react_agent\n",
    "from langgraph.checkpoint.memory import MemorySaver"
   ]
  },
  {
   "cell_type": "code",
   "execution_count": 33,
   "metadata": {},
   "outputs": [],
   "source": [
    "model = ChatOpenAI(model=\"gpt-3.5-turbo\")\n",
    "memory = MemorySaver()"
   ]
  },
  {
   "cell_type": "code",
   "execution_count": 34,
   "metadata": {},
   "outputs": [],
   "source": [
    "search = TavilySearchResults(max_results=2)\n",
    "search_results = search.invoke(\"Is the porshe 992 911 turbo s faster than the golf 7\")\n",
    "tools = [search]\n",
    "agent_executor = create_react_agent(model, tools, checkpointer=memory)\n"
   ]
  },
  {
   "cell_type": "code",
   "execution_count": 28,
   "metadata": {},
   "outputs": [
    {
     "data": {
      "text/plain": [
       "[HumanMessage(content='whats the weather today in Bulawayo', additional_kwargs={}, response_metadata={}, id='c76dffa4-99dd-4712-9570-4da32bcd66f4'),\n",
       " AIMessage(content='', additional_kwargs={'tool_calls': [{'id': 'call_Y3SrKeLkZe10xygIp1WG4Wu3', 'function': {'arguments': '{\"query\":\"weather in Bulawayo today\"}', 'name': 'tavily_search_results_json'}, 'type': 'function'}], 'refusal': None}, response_metadata={'token_usage': {'completion_tokens': 23, 'prompt_tokens': 90, 'total_tokens': 113, 'completion_tokens_details': {'audio_tokens': None, 'reasoning_tokens': 0}, 'prompt_tokens_details': {'audio_tokens': None, 'cached_tokens': 0}}, 'model_name': 'gpt-3.5-turbo-0125', 'system_fingerprint': None, 'finish_reason': 'tool_calls', 'logprobs': None}, id='run-cac13a42-83ef-4b53-a1ed-9330fdfb030c-0', tool_calls=[{'name': 'tavily_search_results_json', 'args': {'query': 'weather in Bulawayo today'}, 'id': 'call_Y3SrKeLkZe10xygIp1WG4Wu3', 'type': 'tool_call'}], usage_metadata={'input_tokens': 90, 'output_tokens': 23, 'total_tokens': 113, 'input_token_details': {'cache_read': 0}, 'output_token_details': {'reasoning': 0}}),\n",
       " ToolMessage(content='[{\"url\": \"https://www.weatherapi.com/\", \"content\": \"{\\'location\\': {\\'name\\': \\'Bulawayo\\', \\'region\\': \\'Matabeleland North\\', \\'country\\': \\'Zimbabwe\\', \\'lat\\': -20.15, \\'lon\\': 28.5833, \\'tz_id\\': \\'Africa/Harare\\', \\'localtime_epoch\\': 1729212803, \\'localtime\\': \\'2024-10-18 02:53\\'}, \\'current\\': {\\'last_updated_epoch\\': 1729212300, \\'last_updated\\': \\'2024-10-18 02:45\\', \\'temp_c\\': 14.9, \\'temp_f\\': 58.9, \\'is_day\\': 0, \\'condition\\': {\\'text\\': \\'Clear\\', \\'icon\\': \\'//cdn.weatherapi.com/weather/64x64/night/113.png\\', \\'code\\': 1000}, \\'wind_mph\\': 6.3, \\'wind_kph\\': 10.1, \\'wind_degree\\': 103, \\'wind_dir\\': \\'ESE\\', \\'pressure_mb\\': 1016.0, \\'pressure_in\\': 30.0, \\'precip_mm\\': 0.0, \\'precip_in\\': 0.0, \\'humidity\\': 45, \\'cloud\\': 0, \\'feelslike_c\\': 14.5, \\'feelslike_f\\': 58.2, \\'windchill_c\\': 14.5, \\'windchill_f\\': 58.2, \\'heatindex_c\\': 14.9, \\'heatindex_f\\': 58.9, \\'dewpoint_c\\': 3.2, \\'dewpoint_f\\': 37.8, \\'vis_km\\': 10.0, \\'vis_miles\\': 6.0, \\'uv\\': 0.0, \\'gust_mph\\': 12.8, \\'gust_kph\\': 20.5}}\"}, {\"url\": \"https://www.easeweather.com/africa/zimbabwe/bulawayo/october\", \"content\": \"Your guide to Bulawayo weather in October - trends and predictions. Until now, October 2024 in Bulawayo is cooler than usual, with temperatures averaging 25.3 °C, this is -4.1 °C below the typical seasonal average. The forecast for the next days in Bulawayo predicts temperatures to be around 31 °C, close to the historical average.\"}]', name='tavily_search_results_json', id='4027d860-e680-44f3-9242-ba06fb03601e', tool_call_id='call_Y3SrKeLkZe10xygIp1WG4Wu3', artifact={'query': 'weather in Bulawayo today', 'follow_up_questions': None, 'answer': None, 'images': [], 'results': [{'title': 'Weather in Bulawayo', 'url': 'https://www.weatherapi.com/', 'content': \"{'location': {'name': 'Bulawayo', 'region': 'Matabeleland North', 'country': 'Zimbabwe', 'lat': -20.15, 'lon': 28.5833, 'tz_id': 'Africa/Harare', 'localtime_epoch': 1729212803, 'localtime': '2024-10-18 02:53'}, 'current': {'last_updated_epoch': 1729212300, 'last_updated': '2024-10-18 02:45', 'temp_c': 14.9, 'temp_f': 58.9, 'is_day': 0, 'condition': {'text': 'Clear', 'icon': '//cdn.weatherapi.com/weather/64x64/night/113.png', 'code': 1000}, 'wind_mph': 6.3, 'wind_kph': 10.1, 'wind_degree': 103, 'wind_dir': 'ESE', 'pressure_mb': 1016.0, 'pressure_in': 30.0, 'precip_mm': 0.0, 'precip_in': 0.0, 'humidity': 45, 'cloud': 0, 'feelslike_c': 14.5, 'feelslike_f': 58.2, 'windchill_c': 14.5, 'windchill_f': 58.2, 'heatindex_c': 14.9, 'heatindex_f': 58.9, 'dewpoint_c': 3.2, 'dewpoint_f': 37.8, 'vis_km': 10.0, 'vis_miles': 6.0, 'uv': 0.0, 'gust_mph': 12.8, 'gust_kph': 20.5}}\", 'score': 0.9983764, 'raw_content': None}, {'title': 'Weather in Bulawayo in October 2024 - Detailed Forecast', 'url': 'https://www.easeweather.com/africa/zimbabwe/bulawayo/october', 'content': 'Your guide to Bulawayo weather in October - trends and predictions. Until now, October 2024 in Bulawayo is cooler than usual, with temperatures averaging 25.3 °C, this is -4.1 °C below the typical seasonal average. The forecast for the next days in Bulawayo predicts temperatures to be around 31 °C, close to the historical average.', 'score': 0.998259, 'raw_content': None}], 'response_time': 2.85}),\n",
       " AIMessage(content='The current weather in Bulawayo, Zimbabwe is as follows:\\n- Temperature: 14.9°C (58.9°F)\\n- Condition: Clear\\n- Wind: 6.3 mph from ESE\\n- Pressure: 1016.0 mb\\n- Humidity: 45%\\n- Visibility: 10.0 km\\n\\nFor more detailed weather information and forecasts, you can visit [WeatherAPI.com](https://www.weatherapi.com/).\\n\\nAdditionally, the weather trends in Bulawayo for October 2024 show that it is cooler than usual, with temperatures averaging 25.3°C, which is -4.1°C below the typical seasonal average. The forecast for the next days in Bulawayo predicts temperatures to be around 31°C, close to the historical average. For more insights, you can check out [EaseWeather.com](https://www.easeweather.com/africa/zimbabwe/bulawayo/october).', additional_kwargs={'refusal': None}, response_metadata={'token_usage': {'completion_tokens': 196, 'prompt_tokens': 644, 'total_tokens': 840, 'completion_tokens_details': {'audio_tokens': None, 'reasoning_tokens': 0}, 'prompt_tokens_details': {'audio_tokens': None, 'cached_tokens': 0}}, 'model_name': 'gpt-3.5-turbo-0125', 'system_fingerprint': None, 'finish_reason': 'stop', 'logprobs': None}, id='run-9cc3f6bb-f27c-40cb-a118-0518b2978df7-0', usage_metadata={'input_tokens': 644, 'output_tokens': 196, 'total_tokens': 840, 'input_token_details': {'cache_read': 0}, 'output_token_details': {'reasoning': 0}})]"
      ]
     },
     "execution_count": 28,
     "metadata": {},
     "output_type": "execute_result"
    }
   ],
   "source": [
    "response = agent_executor.invoke({\n",
    "    \"messages\": [HumanMessage(content=\"whats the weather today in Bulawayo\")]\n",
    "})\n",
    "response[\"messages\"]"
   ]
  },
  {
   "cell_type": "code",
   "execution_count": 29,
   "metadata": {},
   "outputs": [
    {
     "name": "stdout",
     "output_type": "stream",
     "text": [
      "{'agent': {'messages': [AIMessage(content='', additional_kwargs={'tool_calls': [{'id': 'call_wdCYKZ68boH7zsMHXQPJOPkc', 'function': {'arguments': '{\"query\":\"weather in Bulawayo today\"}', 'name': 'tavily_search_results_json'}, 'type': 'function'}], 'refusal': None}, response_metadata={'token_usage': {'completion_tokens': 23, 'prompt_tokens': 90, 'total_tokens': 113, 'completion_tokens_details': {'audio_tokens': None, 'reasoning_tokens': 0}, 'prompt_tokens_details': {'audio_tokens': None, 'cached_tokens': 0}}, 'model_name': 'gpt-3.5-turbo-0125', 'system_fingerprint': None, 'finish_reason': 'tool_calls', 'logprobs': None}, id='run-2c2b11f9-940c-4e2b-8644-a17e5b5803d3-0', tool_calls=[{'name': 'tavily_search_results_json', 'args': {'query': 'weather in Bulawayo today'}, 'id': 'call_wdCYKZ68boH7zsMHXQPJOPkc', 'type': 'tool_call'}], usage_metadata={'input_tokens': 90, 'output_tokens': 23, 'total_tokens': 113, 'input_token_details': {'cache_read': 0}, 'output_token_details': {'reasoning': 0}})]}}\n",
      "----\n",
      "{'tools': {'messages': [ToolMessage(content='[{\"url\": \"https://www.weatherapi.com/\", \"content\": \"{\\'location\\': {\\'name\\': \\'Bulawayo\\', \\'region\\': \\'Matabeleland North\\', \\'country\\': \\'Zimbabwe\\', \\'lat\\': -20.15, \\'lon\\': 28.5833, \\'tz_id\\': \\'Africa/Harare\\', \\'localtime_epoch\\': 1729213083, \\'localtime\\': \\'2024-10-18 02:58\\'}, \\'current\\': {\\'last_updated_epoch\\': 1729212300, \\'last_updated\\': \\'2024-10-18 02:45\\', \\'temp_c\\': 14.9, \\'temp_f\\': 58.9, \\'is_day\\': 0, \\'condition\\': {\\'text\\': \\'Clear\\', \\'icon\\': \\'//cdn.weatherapi.com/weather/64x64/night/113.png\\', \\'code\\': 1000}, \\'wind_mph\\': 6.3, \\'wind_kph\\': 10.1, \\'wind_degree\\': 103, \\'wind_dir\\': \\'ESE\\', \\'pressure_mb\\': 1016.0, \\'pressure_in\\': 30.0, \\'precip_mm\\': 0.0, \\'precip_in\\': 0.0, \\'humidity\\': 45, \\'cloud\\': 0, \\'feelslike_c\\': 14.5, \\'feelslike_f\\': 58.2, \\'windchill_c\\': 14.5, \\'windchill_f\\': 58.2, \\'heatindex_c\\': 14.9, \\'heatindex_f\\': 58.9, \\'dewpoint_c\\': 3.2, \\'dewpoint_f\\': 37.8, \\'vis_km\\': 10.0, \\'vis_miles\\': 6.0, \\'uv\\': 0.0, \\'gust_mph\\': 12.8, \\'gust_kph\\': 20.5}}\"}, {\"url\": \"https://www.easeweather.com/africa/zimbabwe/bulawayo/october\", \"content\": \"Your guide to Bulawayo weather in October - trends and predictions. Until now, October 2024 in Bulawayo is cooler than usual, with temperatures averaging 25.3 °C, this is -4.1 °C below the typical seasonal average. The forecast for the next days in Bulawayo predicts temperatures to be around 31 °C, close to the historical average.\"}]', name='tavily_search_results_json', id='a75a8f2a-8238-43a7-bdc0-19bdb2abbeab', tool_call_id='call_wdCYKZ68boH7zsMHXQPJOPkc', artifact={'query': 'weather in Bulawayo today', 'follow_up_questions': None, 'answer': None, 'images': [], 'results': [{'title': 'Weather in Bulawayo', 'url': 'https://www.weatherapi.com/', 'content': \"{'location': {'name': 'Bulawayo', 'region': 'Matabeleland North', 'country': 'Zimbabwe', 'lat': -20.15, 'lon': 28.5833, 'tz_id': 'Africa/Harare', 'localtime_epoch': 1729213083, 'localtime': '2024-10-18 02:58'}, 'current': {'last_updated_epoch': 1729212300, 'last_updated': '2024-10-18 02:45', 'temp_c': 14.9, 'temp_f': 58.9, 'is_day': 0, 'condition': {'text': 'Clear', 'icon': '//cdn.weatherapi.com/weather/64x64/night/113.png', 'code': 1000}, 'wind_mph': 6.3, 'wind_kph': 10.1, 'wind_degree': 103, 'wind_dir': 'ESE', 'pressure_mb': 1016.0, 'pressure_in': 30.0, 'precip_mm': 0.0, 'precip_in': 0.0, 'humidity': 45, 'cloud': 0, 'feelslike_c': 14.5, 'feelslike_f': 58.2, 'windchill_c': 14.5, 'windchill_f': 58.2, 'heatindex_c': 14.9, 'heatindex_f': 58.9, 'dewpoint_c': 3.2, 'dewpoint_f': 37.8, 'vis_km': 10.0, 'vis_miles': 6.0, 'uv': 0.0, 'gust_mph': 12.8, 'gust_kph': 20.5}}\", 'score': 0.9984493, 'raw_content': None}, {'title': 'Weather in Bulawayo in October 2024 - Detailed Forecast', 'url': 'https://www.easeweather.com/africa/zimbabwe/bulawayo/october', 'content': 'Your guide to Bulawayo weather in October - trends and predictions. Until now, October 2024 in Bulawayo is cooler than usual, with temperatures averaging 25.3 °C, this is -4.1 °C below the typical seasonal average. The forecast for the next days in Bulawayo predicts temperatures to be around 31 °C, close to the historical average.', 'score': 0.998259, 'raw_content': None}], 'response_time': 3.28})]}}\n",
      "----\n",
      "{'agent': {'messages': [AIMessage(content='The current weather in Bulawayo, Zimbabwe is as follows:\\n- Temperature: 14.9°C (58.9°F)\\n- Condition: Clear\\n- Wind: 10.1 km/h from ESE\\n- Pressure: 1016.0 mb\\n- Humidity: 45%\\n- Visibility: 10.0 km\\n- UV Index: 0.0\\n\\nFor more detailed information, you can visit [Weather API](https://www.weatherapi.com/).\\n\\nAdditionally, the weather trends for October 2024 in Bulawayo indicate cooler temperatures than usual, with an average of 25.3°C. The forecast for the upcoming days predicts temperatures around 31°C, close to the historical average. For more insights, you can check out [Ease Weather](https://www.easeweather.com/africa/zimbabwe/bulawayo/october).', additional_kwargs={'refusal': None}, response_metadata={'token_usage': {'completion_tokens': 181, 'prompt_tokens': 644, 'total_tokens': 825, 'completion_tokens_details': {'audio_tokens': None, 'reasoning_tokens': 0}, 'prompt_tokens_details': {'audio_tokens': None, 'cached_tokens': 0}}, 'model_name': 'gpt-3.5-turbo-0125', 'system_fingerprint': None, 'finish_reason': 'stop', 'logprobs': None}, id='run-17b10602-d154-4118-a92c-c8d677ae3eb4-0', usage_metadata={'input_tokens': 644, 'output_tokens': 181, 'total_tokens': 825, 'input_token_details': {'cache_read': 0}, 'output_token_details': {'reasoning': 0}})]}}\n",
      "----\n"
     ]
    }
   ],
   "source": [
    "# Lets stream the output\n",
    "for chunk in agent_executor.stream({\n",
    "    \"messages\": [HumanMessage(content=\"whats the weather today in Bulawayo\")]\n",
    "}):\n",
    "    print(chunk)\n",
    "    print(\"----\")"
   ]
  },
  {
   "cell_type": "code",
   "execution_count": 41,
   "metadata": {},
   "outputs": [
    {
     "data": {
      "text/plain": [
       "[HumanMessage(content='My name is Francois', additional_kwargs={}, response_metadata={}, id='4ac5ef1a-cda5-4373-abdb-099592b4d73f'),\n",
       " AIMessage(content='Hello François! How can I assist you today?', additional_kwargs={'refusal': None}, response_metadata={'token_usage': {'completion_tokens': 11, 'prompt_tokens': 85, 'total_tokens': 96, 'completion_tokens_details': {'audio_tokens': None, 'reasoning_tokens': 0}, 'prompt_tokens_details': {'audio_tokens': None, 'cached_tokens': 0}}, 'model_name': 'gpt-3.5-turbo-0125', 'system_fingerprint': None, 'finish_reason': 'stop', 'logprobs': None}, id='run-54384c83-b24e-4d7f-ae57-18c28dba176e-0', usage_metadata={'input_tokens': 85, 'output_tokens': 11, 'total_tokens': 96, 'input_token_details': {'cache_read': 0}, 'output_token_details': {'reasoning': 0}}),\n",
       " HumanMessage(content='what is my name', additional_kwargs={}, response_metadata={}, id='688321d8-1eeb-4163-8223-addff3ef522c'),\n",
       " AIMessage(content='Your name is François. How can I assist you further, François?', additional_kwargs={'refusal': None}, response_metadata={'token_usage': {'completion_tokens': 15, 'prompt_tokens': 107, 'total_tokens': 122, 'completion_tokens_details': {'audio_tokens': None, 'reasoning_tokens': 0}, 'prompt_tokens_details': {'audio_tokens': None, 'cached_tokens': 0}}, 'model_name': 'gpt-3.5-turbo-0125', 'system_fingerprint': None, 'finish_reason': 'stop', 'logprobs': None}, id='run-10303244-87bb-490a-9c77-d1a09ae6ff6a-0', usage_metadata={'input_tokens': 107, 'output_tokens': 15, 'total_tokens': 122, 'input_token_details': {'cache_read': 0}, 'output_token_details': {'reasoning': 0}}),\n",
       " HumanMessage(content='My name is Francois', additional_kwargs={}, response_metadata={}, id='e03523aa-9cab-4945-998d-84f09d8c6797'),\n",
       " AIMessage(content='Got it, François! How can I assist you today?', additional_kwargs={'refusal': None}, response_metadata={'token_usage': {'completion_tokens': 13, 'prompt_tokens': 133, 'total_tokens': 146, 'completion_tokens_details': {'audio_tokens': None, 'reasoning_tokens': 0}, 'prompt_tokens_details': {'audio_tokens': None, 'cached_tokens': 0}}, 'model_name': 'gpt-3.5-turbo-0125', 'system_fingerprint': None, 'finish_reason': 'stop', 'logprobs': None}, id='run-bebda642-4356-477a-a9d8-099c8b94dc9d-0', usage_metadata={'input_tokens': 133, 'output_tokens': 13, 'total_tokens': 146, 'input_token_details': {'cache_read': 0}, 'output_token_details': {'reasoning': 0}}),\n",
       " HumanMessage(content='what is my name', additional_kwargs={}, response_metadata={}, id='c34fc20b-8141-416d-837f-d498a24f9f57'),\n",
       " AIMessage(content='Your name is François. How can I assist you further, François?', additional_kwargs={'refusal': None}, response_metadata={'token_usage': {'completion_tokens': 15, 'prompt_tokens': 157, 'total_tokens': 172, 'completion_tokens_details': {'audio_tokens': None, 'reasoning_tokens': 0}, 'prompt_tokens_details': {'audio_tokens': None, 'cached_tokens': 0}}, 'model_name': 'gpt-3.5-turbo-0125', 'system_fingerprint': None, 'finish_reason': 'stop', 'logprobs': None}, id='run-5a9d03c6-0201-4092-acf1-26eac30fba61-0', usage_metadata={'input_tokens': 157, 'output_tokens': 15, 'total_tokens': 172, 'input_token_details': {'cache_read': 0}, 'output_token_details': {'reasoning': 0}}),\n",
       " HumanMessage(content='My name is Francois', additional_kwargs={}, response_metadata={}, id='2a0d6970-8896-4014-8be5-6261eda7ce11'),\n",
       " AIMessage(content='Got it, François! How can I assist you today?', additional_kwargs={'refusal': None}, response_metadata={'token_usage': {'completion_tokens': 13, 'prompt_tokens': 183, 'total_tokens': 196, 'completion_tokens_details': {'audio_tokens': None, 'reasoning_tokens': 0}, 'prompt_tokens_details': {'audio_tokens': None, 'cached_tokens': 0}}, 'model_name': 'gpt-3.5-turbo-0125', 'system_fingerprint': None, 'finish_reason': 'stop', 'logprobs': None}, id='run-47461e4a-3db4-45f1-8f9a-2ef9af7f7be0-0', usage_metadata={'input_tokens': 183, 'output_tokens': 13, 'total_tokens': 196, 'input_token_details': {'cache_read': 0}, 'output_token_details': {'reasoning': 0}})]"
      ]
     },
     "execution_count": 41,
     "metadata": {},
     "output_type": "execute_result"
    }
   ],
   "source": [
    "# Adding memory\n",
    "config = {\"configurable\": {\"thread_id\": \"abc123\"}}\n",
    "response = agent_executor.invoke({\n",
    "    \"messages\": [HumanMessage(content=\"My name is Francois\")]\n",
    "}, config)\n",
    "response[\"messages\"]"
   ]
  },
  {
   "cell_type": "code",
   "execution_count": 43,
   "metadata": {},
   "outputs": [
    {
     "data": {
      "text/plain": [
       "[HumanMessage(content='My name is Francois', additional_kwargs={}, response_metadata={}, id='4ac5ef1a-cda5-4373-abdb-099592b4d73f'),\n",
       " AIMessage(content='Hello François! How can I assist you today?', additional_kwargs={'refusal': None}, response_metadata={'token_usage': {'completion_tokens': 11, 'prompt_tokens': 85, 'total_tokens': 96, 'completion_tokens_details': {'audio_tokens': None, 'reasoning_tokens': 0}, 'prompt_tokens_details': {'audio_tokens': None, 'cached_tokens': 0}}, 'model_name': 'gpt-3.5-turbo-0125', 'system_fingerprint': None, 'finish_reason': 'stop', 'logprobs': None}, id='run-54384c83-b24e-4d7f-ae57-18c28dba176e-0', usage_metadata={'input_tokens': 85, 'output_tokens': 11, 'total_tokens': 96, 'input_token_details': {'cache_read': 0}, 'output_token_details': {'reasoning': 0}}),\n",
       " HumanMessage(content='what is my name', additional_kwargs={}, response_metadata={}, id='688321d8-1eeb-4163-8223-addff3ef522c'),\n",
       " AIMessage(content='Your name is François. How can I assist you further, François?', additional_kwargs={'refusal': None}, response_metadata={'token_usage': {'completion_tokens': 15, 'prompt_tokens': 107, 'total_tokens': 122, 'completion_tokens_details': {'audio_tokens': None, 'reasoning_tokens': 0}, 'prompt_tokens_details': {'audio_tokens': None, 'cached_tokens': 0}}, 'model_name': 'gpt-3.5-turbo-0125', 'system_fingerprint': None, 'finish_reason': 'stop', 'logprobs': None}, id='run-10303244-87bb-490a-9c77-d1a09ae6ff6a-0', usage_metadata={'input_tokens': 107, 'output_tokens': 15, 'total_tokens': 122, 'input_token_details': {'cache_read': 0}, 'output_token_details': {'reasoning': 0}}),\n",
       " HumanMessage(content='My name is Francois', additional_kwargs={}, response_metadata={}, id='e03523aa-9cab-4945-998d-84f09d8c6797'),\n",
       " AIMessage(content='Got it, François! How can I assist you today?', additional_kwargs={'refusal': None}, response_metadata={'token_usage': {'completion_tokens': 13, 'prompt_tokens': 133, 'total_tokens': 146, 'completion_tokens_details': {'audio_tokens': None, 'reasoning_tokens': 0}, 'prompt_tokens_details': {'audio_tokens': None, 'cached_tokens': 0}}, 'model_name': 'gpt-3.5-turbo-0125', 'system_fingerprint': None, 'finish_reason': 'stop', 'logprobs': None}, id='run-bebda642-4356-477a-a9d8-099c8b94dc9d-0', usage_metadata={'input_tokens': 133, 'output_tokens': 13, 'total_tokens': 146, 'input_token_details': {'cache_read': 0}, 'output_token_details': {'reasoning': 0}}),\n",
       " HumanMessage(content='what is my name', additional_kwargs={}, response_metadata={}, id='c34fc20b-8141-416d-837f-d498a24f9f57'),\n",
       " AIMessage(content='Your name is François. How can I assist you further, François?', additional_kwargs={'refusal': None}, response_metadata={'token_usage': {'completion_tokens': 15, 'prompt_tokens': 157, 'total_tokens': 172, 'completion_tokens_details': {'audio_tokens': None, 'reasoning_tokens': 0}, 'prompt_tokens_details': {'audio_tokens': None, 'cached_tokens': 0}}, 'model_name': 'gpt-3.5-turbo-0125', 'system_fingerprint': None, 'finish_reason': 'stop', 'logprobs': None}, id='run-5a9d03c6-0201-4092-acf1-26eac30fba61-0', usage_metadata={'input_tokens': 157, 'output_tokens': 15, 'total_tokens': 172, 'input_token_details': {'cache_read': 0}, 'output_token_details': {'reasoning': 0}}),\n",
       " HumanMessage(content='My name is Francois', additional_kwargs={}, response_metadata={}, id='2a0d6970-8896-4014-8be5-6261eda7ce11'),\n",
       " AIMessage(content='Got it, François! How can I assist you today?', additional_kwargs={'refusal': None}, response_metadata={'token_usage': {'completion_tokens': 13, 'prompt_tokens': 183, 'total_tokens': 196, 'completion_tokens_details': {'audio_tokens': None, 'reasoning_tokens': 0}, 'prompt_tokens_details': {'audio_tokens': None, 'cached_tokens': 0}}, 'model_name': 'gpt-3.5-turbo-0125', 'system_fingerprint': None, 'finish_reason': 'stop', 'logprobs': None}, id='run-47461e4a-3db4-45f1-8f9a-2ef9af7f7be0-0', usage_metadata={'input_tokens': 183, 'output_tokens': 13, 'total_tokens': 196, 'input_token_details': {'cache_read': 0}, 'output_token_details': {'reasoning': 0}}),\n",
       " HumanMessage(content='what is my name', additional_kwargs={}, response_metadata={}, id='8c7aee26-0bfe-47aa-a26c-39a306d315c2'),\n",
       " AIMessage(content='', additional_kwargs={'tool_calls': [{'id': 'call_wjLIo795HT3Ll5RawK0C0uIy', 'function': {'arguments': '{\"query\":\"What is the name of the user\"}', 'name': 'tavily_search_results_json'}, 'type': 'function'}], 'refusal': None}, response_metadata={'token_usage': {'completion_tokens': 24, 'prompt_tokens': 207, 'total_tokens': 231, 'completion_tokens_details': {'audio_tokens': None, 'reasoning_tokens': 0}, 'prompt_tokens_details': {'audio_tokens': None, 'cached_tokens': 0}}, 'model_name': 'gpt-3.5-turbo-0125', 'system_fingerprint': None, 'finish_reason': 'tool_calls', 'logprobs': None}, id='run-9b70e323-825c-483a-8c13-975c8344677f-0', tool_calls=[{'name': 'tavily_search_results_json', 'args': {'query': 'What is the name of the user'}, 'id': 'call_wjLIo795HT3Ll5RawK0C0uIy', 'type': 'tool_call'}], usage_metadata={'input_tokens': 207, 'output_tokens': 24, 'total_tokens': 231, 'input_token_details': {'cache_read': 0}, 'output_token_details': {'reasoning': 0}}),\n",
       " ToolMessage(content='[{\"url\": \"https://www.computerhope.com/jargon/u/username.htm\", \"content\": \"Username\\\\nAlso called an account name, login ID, nickname, and user ID, username or user name is the name given to a computer or computer network user. For example, an individual known as John Smith may be assigned the username smitj, the first four letters of the last name, followed by the first letter of the first name. If you do not recall creating a username or don\\'t remember the name you chose, try using your e-mail address as your username. In our earlier example, \\\\\"John Smith\\\\\" is the user name, and \\\\\"smitj\\\\\" is the username used with his password.\\\\n The Microsoft Manual of Style 4th Edition states that the user name should be two words unless describing a label in the user interface.\\\\n\"}, {\"url\": \"https://usersearch.org/updates/what-is-a-username\", \"content\": \"Account Name. This term is used broadly to refer to the name associated with an online account. It can be your email address, a user ID you create, or another identifier that distinguishes your account from others on the same platform. Login. Similar to an account name, a login name is specifically the identifier you use to access an account.\"}]', name='tavily_search_results_json', id='991c0f12-76eb-44ce-82af-abd5c618f571', tool_call_id='call_wjLIo795HT3Ll5RawK0C0uIy', artifact={'query': 'What is the name of the user', 'follow_up_questions': None, 'answer': None, 'images': [], 'results': [{'title': 'What is a Username? - Computer Hope', 'url': 'https://www.computerhope.com/jargon/u/username.htm', 'content': 'Username\\nAlso called an account name, login ID, nickname, and user ID, username or user name is the name given to a computer or computer network user. For example, an individual known as John Smith may be assigned the username smitj, the first four letters of the last name, followed by the first letter of the first name. If you do not recall creating a username or don\\'t remember the name you chose, try using your e-mail address as your username. In our earlier example, \"John Smith\" is the user name, and \"smitj\" is the username used with his password.\\n The Microsoft Manual of Style 4th Edition states that the user name should be two words unless describing a label in the user interface.\\n', 'score': 0.86350673, 'raw_content': None}, {'title': 'What is a Username? (With Examples) - News & Articles', 'url': 'https://usersearch.org/updates/what-is-a-username', 'content': 'Account Name. This term is used broadly to refer to the name associated with an online account. It can be your email address, a user ID you create, or another identifier that distinguishes your account from others on the same platform. Login. Similar to an account name, a login name is specifically the identifier you use to access an account.', 'score': 0.47219667, 'raw_content': None}], 'response_time': 1.97}),\n",
       " AIMessage(content='Based on the search results, your name in this context would be your username or account name. If you have a specific username or account name you go by, please let me know. How can I assist you further?', additional_kwargs={'refusal': None}, response_metadata={'token_usage': {'completion_tokens': 45, 'prompt_tokens': 513, 'total_tokens': 558, 'completion_tokens_details': {'audio_tokens': None, 'reasoning_tokens': 0}, 'prompt_tokens_details': {'audio_tokens': None, 'cached_tokens': 0}}, 'model_name': 'gpt-3.5-turbo-0125', 'system_fingerprint': None, 'finish_reason': 'stop', 'logprobs': None}, id='run-72b9d957-71da-495d-8a94-21cdbc33ee29-0', usage_metadata={'input_tokens': 513, 'output_tokens': 45, 'total_tokens': 558, 'input_token_details': {'cache_read': 0}, 'output_token_details': {'reasoning': 0}}),\n",
       " HumanMessage(content='what is my name', additional_kwargs={}, response_metadata={}, id='e691bbe6-b77d-4697-9ba3-c05a1f0e541e'),\n",
       " AIMessage(content='Your name is François. How can I assist you further, François?', additional_kwargs={'refusal': None}, response_metadata={'token_usage': {'completion_tokens': 15, 'prompt_tokens': 569, 'total_tokens': 584, 'completion_tokens_details': {'audio_tokens': None, 'reasoning_tokens': 0}, 'prompt_tokens_details': {'audio_tokens': None, 'cached_tokens': 0}}, 'model_name': 'gpt-3.5-turbo-0125', 'system_fingerprint': None, 'finish_reason': 'stop', 'logprobs': None}, id='run-03f1672d-5c5b-442b-b12a-c77f5aece69b-0', usage_metadata={'input_tokens': 569, 'output_tokens': 15, 'total_tokens': 584, 'input_token_details': {'cache_read': 0}, 'output_token_details': {'reasoning': 0}})]"
      ]
     },
     "execution_count": 43,
     "metadata": {},
     "output_type": "execute_result"
    }
   ],
   "source": [
    "# test memory\n",
    "response = agent_executor.invoke({\n",
    "    \"messages\": [HumanMessage(content=\"what is my name\")]\n",
    "}, config)\n",
    "response[\"messages\"]"
   ]
  },
  {
   "cell_type": "code",
   "execution_count": 45,
   "metadata": {},
   "outputs": [
    {
     "data": {
      "text/plain": [
       "[HumanMessage(content='what is my name', additional_kwargs={}, response_metadata={}, id='4d0d2496-569b-4614-ac9e-4bf54d25182f'),\n",
       " AIMessage(content=\"I don't have access to personal information like your name. If there's anything specific you'd like assistance with or if you have any questions, feel free to let me know!\", additional_kwargs={'refusal': None}, response_metadata={'token_usage': {'completion_tokens': 37, 'prompt_tokens': 85, 'total_tokens': 122, 'completion_tokens_details': {'audio_tokens': None, 'reasoning_tokens': 0}, 'prompt_tokens_details': {'audio_tokens': None, 'cached_tokens': 0}}, 'model_name': 'gpt-3.5-turbo-0125', 'system_fingerprint': None, 'finish_reason': 'stop', 'logprobs': None}, id='run-ea23ff29-dbb6-422b-a1a8-5aaaac7e6488-0', usage_metadata={'input_tokens': 85, 'output_tokens': 37, 'total_tokens': 122, 'input_token_details': {'cache_read': 0}, 'output_token_details': {'reasoning': 0}}),\n",
       " HumanMessage(content='what is my name', additional_kwargs={}, response_metadata={}, id='30cca105-8bf4-40fe-9604-650abf50a92c'),\n",
       " AIMessage(content=\"I don't have access to personal information like your name. If there's anything specific you'd like assistance with or if you have any questions, feel free to let me know!\", additional_kwargs={'refusal': None}, response_metadata={'token_usage': {'completion_tokens': 37, 'prompt_tokens': 133, 'total_tokens': 170, 'completion_tokens_details': {'audio_tokens': None, 'reasoning_tokens': 0}, 'prompt_tokens_details': {'audio_tokens': None, 'cached_tokens': 0}}, 'model_name': 'gpt-3.5-turbo-0125', 'system_fingerprint': None, 'finish_reason': 'stop', 'logprobs': None}, id='run-8aa871b3-3a63-4851-ac37-cccf33fbb5ee-0', usage_metadata={'input_tokens': 133, 'output_tokens': 37, 'total_tokens': 170, 'input_token_details': {'cache_read': 0}, 'output_token_details': {'reasoning': 0}}),\n",
       " HumanMessage(content='what is my name', additional_kwargs={}, response_metadata={}, id='bd07223d-888f-49aa-8406-5a847c122ef0'),\n",
       " AIMessage(content=\"I don't have access to personal information like your name. If there's anything specific you'd like assistance with or if you have any questions, feel free to let me know!\", additional_kwargs={'refusal': None}, response_metadata={'token_usage': {'completion_tokens': 37, 'prompt_tokens': 181, 'total_tokens': 218, 'completion_tokens_details': {'audio_tokens': None, 'reasoning_tokens': 0}, 'prompt_tokens_details': {'audio_tokens': None, 'cached_tokens': 0}}, 'model_name': 'gpt-3.5-turbo-0125', 'system_fingerprint': None, 'finish_reason': 'stop', 'logprobs': None}, id='run-1c67007c-1402-42f2-a217-17e6652d7351-0', usage_metadata={'input_tokens': 181, 'output_tokens': 37, 'total_tokens': 218, 'input_token_details': {'cache_read': 0}, 'output_token_details': {'reasoning': 0}})]"
      ]
     },
     "execution_count": 45,
     "metadata": {},
     "output_type": "execute_result"
    }
   ],
   "source": [
    "# change thread id\n",
    "config = {\"configurable\": {\"thread_id\": \"abc456\"}}\n",
    "response = agent_executor.invoke({\n",
    "    \"messages\": [HumanMessage(content=\"what is my name\")]\n",
    "}, config)\n",
    "response[\"messages\"]"
   ]
  },
  {
   "cell_type": "code",
   "execution_count": null,
   "metadata": {},
   "outputs": [],
   "source": []
  }
 ],
 "metadata": {
  "kernelspec": {
   "display_name": "my_env",
   "language": "python",
   "name": "python3"
  },
  "language_info": {
   "codemirror_mode": {
    "name": "ipython",
    "version": 3
   },
   "file_extension": ".py",
   "mimetype": "text/x-python",
   "name": "python",
   "nbconvert_exporter": "python",
   "pygments_lexer": "ipython3",
   "version": "3.11.5"
  }
 },
 "nbformat": 4,
 "nbformat_minor": 2
}
