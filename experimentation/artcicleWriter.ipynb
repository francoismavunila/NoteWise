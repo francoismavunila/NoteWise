{
 "cells": [
  {
   "cell_type": "markdown",
   "metadata": {},
   "source": [
    "## Writing Assistant - NoteWise\n",
    "\n",
    "### Description\n",
    "NoteWise is a writing assistant, with the following functionalities\n",
    "\n",
    "`Topic Selection`\n",
    "* The use enter the topic they want to write about\n",
    "\n",
    "`Template`\n",
    "* The user can select the template they want to use for their writing\n",
    "\n",
    "`subtopic Generation`\n",
    "* The Agent generates subtopics based on the topics, reserach (websearch)\n",
    "* The user can select the subtopics they want to write about \n",
    "\n",
    "`Research Tools`\n",
    "* Research tools include wikipedia, web search and user input(content from the user)\n",
    "* The user can select the research tool they want to use for their writing\n",
    "\n",
    "`Document Writing`\n",
    "* The Agent generates the writing based on the research tools and the user input\n",
    "* The user can confirm the writing or correct it \n"
   ]
  },
  {
   "cell_type": "code",
   "execution_count": 1,
   "metadata": {},
   "outputs": [
    {
     "data": {
      "text/plain": [
       "True"
      ]
     },
     "execution_count": 1,
     "metadata": {},
     "output_type": "execute_result"
    }
   ],
   "source": [
    "# Imports\n",
    "import os \n",
    "from dotenv import load_dotenv\n",
    "from langchain_openai import ChatOpenAI\n",
    "from typing import List\n",
    "from typing_extensions import TypedDict\n",
    "from pydantic import BaseModel, Field\n",
    "\n",
    "load_dotenv()"
   ]
  },
  {
   "cell_type": "code",
   "execution_count": 2,
   "metadata": {},
   "outputs": [],
   "source": [
    "OPENAI_KEY = os.getenv(\"OPENAI_KEY\")\n",
    "TAVILY_API_KEY = os.getenv(\"TAVILY_API_KEY\")"
   ]
  },
  {
   "cell_type": "code",
   "execution_count": 3,
   "metadata": {},
   "outputs": [],
   "source": [
    "llm = ChatOpenAI(model = \"gpt-4o\", temperature = 0)"
   ]
  },
  {
   "cell_type": "code",
   "execution_count": 41,
   "metadata": {},
   "outputs": [],
   "source": [
    "## define states\n",
    "class SubTopic(BaseModel):\n",
    "    title: str = Field(\n",
    "        description= \"title for the subtopic\"\n",
    "    )\n",
    "    content: str = Field(\n",
    "        description=\"topic for the subtopic\"\n",
    "    )\n",
    "\n",
    "class SubTopicList(BaseModel):\n",
    "    subTopics: List[SubTopic] = Field(\n",
    "        description= \"a comprehensive list of subtopics\"\n",
    "    )\n",
    "    \n",
    "class GenerateWritingState(TypedDict):\n",
    "    topic: str\n",
    "    writing_type:str\n",
    "    subtopics: List[SubTopic]\n",
    "    max_subtopics: int\n",
    "    human_feedback: str\n",
    "    template: str\n",
    "    tools: List[str]\n",
    "    writing: str\n",
    "    writing_confirm: bool = False\n",
    "    writing_instruction: str = \"generate writing\""
   ]
  },
  {
   "cell_type": "code",
   "execution_count": 42,
   "metadata": {},
   "outputs": [
    {
     "data": {
      "image/png": "[encoded data removed]",
      "text/plain": [
       "<IPython.core.display.Image object>"
      ]
     },
     "metadata": {},
     "output_type": "display_data"
    }
   ],
   "source": [
    "from IPython.display import Image, display\n",
    "from langgraph.graph import START, END, StateGraph\n",
    "from langgraph.checkpoint.memory import MemorySaver\n",
    "from langchain_core.messages import HumanMessage, SystemMessage, AIMessage\n",
    "\n",
    "generate_subtopics_prompt = \"\"\"\n",
    "You are tasked with creating subtopics for a {writing_type}, follow these instructions carefully:\n",
    "1. Carefully analyse this topic to understand what it is and what is required of it:\n",
    "{topic}\n",
    "2. Examine any editorial feedback that has been optionally provided to guide in the creation of subtopics\n",
    "{human_feedback}\n",
    "3. Dertemine the most interesting sub topics and pick the top {max_subtopics}\n",
    "4. In the content part put an empty string for now\n",
    "\"\"\"\n",
    "def generate_subtopics(state: GenerateWritingState):\n",
    "    \n",
    "    writing_type = state[\"writing_type\"]\n",
    "    topic = state[\"topic\"]\n",
    "    human_feedback = state.get(\"human_feedback\", None)\n",
    "    max_subtopics = state[\"max_subtopics\"]\n",
    "    \n",
    "    formatted_prompt = generate_subtopics_prompt.format(writing_type = writing_type, topic = topic, human_feedback = human_feedback, max_subtopics = max_subtopics)\n",
    "    \n",
    "    structured_llm = llm.with_structured_output(SubTopicList)\n",
    "    \n",
    "    subtopics = structured_llm.invoke([SystemMessage(content=formatted_prompt)] + [HumanMessage(content=\"generate subtopics\")])\n",
    "    \n",
    "    return {\"subtopics\" : subtopics.subTopics}\n",
    "\n",
    "def human_feedback_function(state: GenerateWritingState):\n",
    "    pass\n",
    "\n",
    "def subtopics_confirmation(state: GenerateWritingState):\n",
    "    human_feedback = state.get(\"human_feedback\", None)\n",
    "    \n",
    "    if human_feedback:\n",
    "        print(\"am deciding loop\", human_feedback)\n",
    "        return \"generate_subtopics\"\n",
    "    print(\"am deciding to end\", human_feedback)\n",
    "    return END\n",
    "\n",
    "# create a graph builder\n",
    "builder = StateGraph(GenerateWritingState)\n",
    "\n",
    "# Add a node\n",
    "builder.add_node(generate_subtopics, \"generate_subtopics\")\n",
    "builder.add_node(human_feedback_function, \"human_feedback_function\")\n",
    "\n",
    "# add edges\n",
    "builder.add_edge(START, \"generate_subtopics\")\n",
    "builder.add_edge(\"generate_subtopics\", \"human_feedback_function\")\n",
    "builder.add_conditional_edges(\"human_feedback_function\", subtopics_confirmation, [\"generate_subtopics\", END])\n",
    "\n",
    "# Compile\n",
    "memory = MemorySaver()\n",
    "graph = builder.compile(interrupt_before=['human_feedback_function'],checkpointer=memory)\n",
    "\n",
    "# View\n",
    "display(Image(graph.get_graph(xray=1).draw_mermaid_png()))\n",
    "\n"
   ]
  },
  {
   "cell_type": "code",
   "execution_count": 43,
   "metadata": {},
   "outputs": [
    {
     "data": {
      "text/plain": [
       "{'topic': 'what is Artificial intelligence',\n",
       " 'writing_type': 'Blog',\n",
       " 'subtopics': [SubTopic(title='Introduction to Artificial Intelligence', content=''),\n",
       "  SubTopic(title='History and Evolution of AI', content=''),\n",
       "  SubTopic(title='Types of Artificial Intelligence', content=''),\n",
       "  SubTopic(title='Applications of AI in Various Industries', content=''),\n",
       "  SubTopic(title='Ethical Considerations in AI Development', content='')],\n",
       " 'max_subtopics': 5,\n",
       " 'template': \"\\nTitle: [Enter the blog title here]\\n\\nIntroduction:\\n[Write an engaging introduction that explains what the blog will cover and why it's important.]\\n\\nTable of Contents:\\n1. [What is Topic?]\\n2. [Why is Topic Important?]\\n3. [Key Insights]\\n4. [How to Implement Topic]\\n5. [Challenges and Solutions]\\n6. [Conclusion]\\n\\nBody:\\n1. What is Topic?\\n   [Explain the topic clearly with examples or analogies.]\\n\\n2. Why is Topic Important?\\n   [Discuss the significance of the topic with supporting data or real-world examples.]\\n\\n3. Key Insights:\\n   - [Key Insight 1]\\n   - [Key Insight 2]\\n   - [Key Insight 3]\\n\\n4. How to Implement Topic:\\n   - Step 1: [Explain step 1]\\n   - Step 2: [Explain step 2]\\n   - Step 3: [Explain step 3]\\n\\n5. Challenges and Solutions:\\n   - Challenge 1: [Describe challenge]\\n     - Solution: [Provide solution]\\n   - Challenge 2: [Describe challenge]\\n     - Solution: [Provide solution]\\n\\nConclusion:\\n[Summarize the blog's key points and end with a call-to-action or final thoughts.]\\n\\nReferences/Further Reading:\\n- [Reference 1]\\n- [Reference 2]\\n\"}"
      ]
     },
     "execution_count": 43,
     "metadata": {},
     "output_type": "execute_result"
    }
   ],
   "source": [
    "topic = \"what is Artificial intelligence\"\n",
    "writing_type = \"Blog\"\n",
    "max_subtopics = 5\n",
    "template = \"\"\"\n",
    "Title: [Enter the blog title here]\n",
    "\n",
    "Introduction:\n",
    "[Write an engaging introduction that explains what the blog will cover and why it's important.]\n",
    "\n",
    "Table of Contents:\n",
    "1. [What is Topic?]\n",
    "2. [Why is Topic Important?]\n",
    "3. [Key Insights]\n",
    "4. [How to Implement Topic]\n",
    "5. [Challenges and Solutions]\n",
    "6. [Conclusion]\n",
    "\n",
    "Body:\n",
    "1. What is Topic?\n",
    "   [Explain the topic clearly with examples or analogies.]\n",
    "\n",
    "2. Why is Topic Important?\n",
    "   [Discuss the significance of the topic with supporting data or real-world examples.]\n",
    "\n",
    "3. Key Insights:\n",
    "   - [Key Insight 1]\n",
    "   - [Key Insight 2]\n",
    "   - [Key Insight 3]\n",
    "\n",
    "4. How to Implement Topic:\n",
    "   - Step 1: [Explain step 1]\n",
    "   - Step 2: [Explain step 2]\n",
    "   - Step 3: [Explain step 3]\n",
    "\n",
    "5. Challenges and Solutions:\n",
    "   - Challenge 1: [Describe challenge]\n",
    "     - Solution: [Provide solution]\n",
    "   - Challenge 2: [Describe challenge]\n",
    "     - Solution: [Provide solution]\n",
    "\n",
    "Conclusion:\n",
    "[Summarize the blog's key points and end with a call-to-action or final thoughts.]\n",
    "\n",
    "References/Further Reading:\n",
    "- [Reference 1]\n",
    "- [Reference 2]\n",
    "\"\"\"\n",
    "\n",
    "thread = {\"configurable\": {\"thread_id\": \"1\"}}\n",
    "graph.invoke({\"topic\":topic, \"writing_type\": writing_type, \"max_subtopics\": max_subtopics, \"template\": template }, thread)\n"
   ]
  },
  {
   "cell_type": "code",
   "execution_count": 44,
   "metadata": {},
   "outputs": [
    {
     "data": {
      "text/plain": [
       "{'topic': 'what is Artificial intelligence',\n",
       " 'writing_type': 'Blog',\n",
       " 'subtopics': [SubTopic(title='Introduction to Artificial Intelligence', content=''),\n",
       "  SubTopic(title='History and Evolution of AI', content=''),\n",
       "  SubTopic(title='Types of Artificial Intelligence', content=''),\n",
       "  SubTopic(title='Applications of AI in Various Industries', content=''),\n",
       "  SubTopic(title='Ethical Considerations in AI Development', content='')],\n",
       " 'max_subtopics': 5,\n",
       " 'template': \"\\nTitle: [Enter the blog title here]\\n\\nIntroduction:\\n[Write an engaging introduction that explains what the blog will cover and why it's important.]\\n\\nTable of Contents:\\n1. [What is Topic?]\\n2. [Why is Topic Important?]\\n3. [Key Insights]\\n4. [How to Implement Topic]\\n5. [Challenges and Solutions]\\n6. [Conclusion]\\n\\nBody:\\n1. What is Topic?\\n   [Explain the topic clearly with examples or analogies.]\\n\\n2. Why is Topic Important?\\n   [Discuss the significance of the topic with supporting data or real-world examples.]\\n\\n3. Key Insights:\\n   - [Key Insight 1]\\n   - [Key Insight 2]\\n   - [Key Insight 3]\\n\\n4. How to Implement Topic:\\n   - Step 1: [Explain step 1]\\n   - Step 2: [Explain step 2]\\n   - Step 3: [Explain step 3]\\n\\n5. Challenges and Solutions:\\n   - Challenge 1: [Describe challenge]\\n     - Solution: [Provide solution]\\n   - Challenge 2: [Describe challenge]\\n     - Solution: [Provide solution]\\n\\nConclusion:\\n[Summarize the blog's key points and end with a call-to-action or final thoughts.]\\n\\nReferences/Further Reading:\\n- [Reference 1]\\n- [Reference 2]\\n\"}"
      ]
     },
     "execution_count": 44,
     "metadata": {},
     "output_type": "execute_result"
    }
   ],
   "source": [
    "state = graph.get_state(thread)\n",
    "state.values"
   ]
  },
  {
   "cell_type": "code",
   "execution_count": 45,
   "metadata": {},
   "outputs": [
    {
     "data": {
      "text/plain": [
       "{'configurable': {'thread_id': '1',\n",
       "  'checkpoint_ns': '',\n",
       "  'checkpoint_id': '1efaae97-8659-6ad7-8002-e8b96bcdc235'}}"
      ]
     },
     "execution_count": 45,
     "metadata": {},
     "output_type": "execute_result"
    }
   ],
   "source": [
    "graph.update_state(thread, {\"human_feedback\":\"Dont add the history and all that, am interested in topics like the difference between ai and ml, what is gen ai\"})\n",
    "# graph.get_state(thread).values"
   ]
  },
  {
   "cell_type": "code",
   "execution_count": 46,
   "metadata": {},
   "outputs": [
    {
     "data": {
      "text/plain": [
       "('human_feedback_function',)"
      ]
     },
     "execution_count": 46,
     "metadata": {},
     "output_type": "execute_result"
    }
   ],
   "source": [
    "state = graph.get_state(thread)\n",
    "state.next"
   ]
  },
  {
   "cell_type": "code",
   "execution_count": 47,
   "metadata": {},
   "outputs": [
    {
     "name": "stdout",
     "output_type": "stream",
     "text": [
      "am deciding loop Dont add the history and all that, am interested in topics like the difference between ai and ml, what is gen ai\n"
     ]
    },
    {
     "data": {
      "text/plain": [
       "{'topic': 'what is Artificial intelligence',\n",
       " 'writing_type': 'Blog',\n",
       " 'subtopics': [SubTopic(title='Understanding Artificial Intelligence', content=''),\n",
       "  SubTopic(title='The Difference Between AI and Machine Learning', content=''),\n",
       "  SubTopic(title='What is General AI?', content=''),\n",
       "  SubTopic(title='Applications of Artificial Intelligence in Various Industries', content=''),\n",
       "  SubTopic(title='Ethical Considerations in Artificial Intelligence', content='')],\n",
       " 'max_subtopics': 5,\n",
       " 'human_feedback': 'Dont add the history and all that, am interested in topics like the difference between ai and ml, what is gen ai',\n",
       " 'template': \"\\nTitle: [Enter the blog title here]\\n\\nIntroduction:\\n[Write an engaging introduction that explains what the blog will cover and why it's important.]\\n\\nTable of Contents:\\n1. [What is Topic?]\\n2. [Why is Topic Important?]\\n3. [Key Insights]\\n4. [How to Implement Topic]\\n5. [Challenges and Solutions]\\n6. [Conclusion]\\n\\nBody:\\n1. What is Topic?\\n   [Explain the topic clearly with examples or analogies.]\\n\\n2. Why is Topic Important?\\n   [Discuss the significance of the topic with supporting data or real-world examples.]\\n\\n3. Key Insights:\\n   - [Key Insight 1]\\n   - [Key Insight 2]\\n   - [Key Insight 3]\\n\\n4. How to Implement Topic:\\n   - Step 1: [Explain step 1]\\n   - Step 2: [Explain step 2]\\n   - Step 3: [Explain step 3]\\n\\n5. Challenges and Solutions:\\n   - Challenge 1: [Describe challenge]\\n     - Solution: [Provide solution]\\n   - Challenge 2: [Describe challenge]\\n     - Solution: [Provide solution]\\n\\nConclusion:\\n[Summarize the blog's key points and end with a call-to-action or final thoughts.]\\n\\nReferences/Further Reading:\\n- [Reference 1]\\n- [Reference 2]\\n\"}"
      ]
     },
     "execution_count": 47,
     "metadata": {},
     "output_type": "execute_result"
    }
   ],
   "source": [
    "graph.invoke(None,thread)"
   ]
  },
  {
   "cell_type": "code",
   "execution_count": 48,
   "metadata": {},
   "outputs": [
    {
     "name": "stdout",
     "output_type": "stream",
     "text": [
      "am deciding to end None\n"
     ]
    },
    {
     "data": {
      "text/plain": [
       "{'configurable': {'thread_id': '1',\n",
       "  'checkpoint_ns': '',\n",
       "  'checkpoint_id': '1efaae98-34d5-680e-8005-2f5b50312468'}}"
      ]
     },
     "execution_count": 48,
     "metadata": {},
     "output_type": "execute_result"
    }
   ],
   "source": [
    "graph.update_state(thread, {\"human_feedback\":None}, as_node= \"human_feedback_function\")"
   ]
  },
  {
   "cell_type": "code",
   "execution_count": 49,
   "metadata": {},
   "outputs": [
    {
     "data": {
      "text/plain": [
       "'Understanding Artificial Intelligence'"
      ]
     },
     "execution_count": 49,
     "metadata": {},
     "output_type": "execute_result"
    }
   ],
   "source": [
    "# the graph is now at the end, lets see whats next\n",
    "state = graph.get_state(thread)\n",
    "state.values[\"subtopics\"][0].title"
   ]
  },
  {
   "cell_type": "markdown",
   "metadata": {},
   "source": [
    "## Generating the actual writing and human in loop for confirming the article writing\n",
    "- sofar we have been able to generate the subtopics and get human feeback on these topics, now its time to generate the writing and allow the user to confirm"
   ]
  },
  {
   "cell_type": "code",
   "execution_count": null,
   "metadata": {},
   "outputs": [
    {
     "ename": "ValueError",
     "evalue": "Node `human_feedback_function` already present.",
     "output_type": "error",
     "traceback": [
      "\u001b[1;31m---------------------------------------------------------------------------\u001b[0m",
      "\u001b[1;31mValueError\u001b[0m                                Traceback (most recent call last)",
      "Cell \u001b[1;32mIn[51], line 87\u001b[0m\n\u001b[0;32m     85\u001b[0m builder\u001b[38;5;241m.\u001b[39madd_node(generate_subtopics, \u001b[38;5;124m\"\u001b[39m\u001b[38;5;124mgenerate_subtopics\u001b[39m\u001b[38;5;124m\"\u001b[39m)\n\u001b[0;32m     86\u001b[0m builder\u001b[38;5;241m.\u001b[39madd_node(human_feedback_function, \u001b[38;5;124m\"\u001b[39m\u001b[38;5;124mhuman_feedback_function\u001b[39m\u001b[38;5;124m\"\u001b[39m)\n\u001b[1;32m---> 87\u001b[0m \u001b[43mbuilder\u001b[49m\u001b[38;5;241;43m.\u001b[39;49m\u001b[43madd_node\u001b[49m\u001b[43m(\u001b[49m\u001b[43mhuman_feedback_function\u001b[49m\u001b[43m,\u001b[49m\u001b[43m \u001b[49m\u001b[38;5;124;43m\"\u001b[39;49m\u001b[38;5;124;43mhuman_feedback_writing\u001b[39;49m\u001b[38;5;124;43m\"\u001b[39;49m\u001b[43m)\u001b[49m\n\u001b[0;32m     88\u001b[0m builder\u001b[38;5;241m.\u001b[39madd_node(generate_writing, \u001b[38;5;124m\"\u001b[39m\u001b[38;5;124mgenerate_writing\u001b[39m\u001b[38;5;124m\"\u001b[39m)\n\u001b[0;32m     90\u001b[0m \u001b[38;5;66;03m# add edges\u001b[39;00m\n",
      "File \u001b[1;32mc:\\Users\\mavun\\OneDrive\\Documents\\programing\\langchain\\my_env\\Lib\\site-packages\\langgraph\\graph\\state.py:361\u001b[0m, in \u001b[0;36mStateGraph.add_node\u001b[1;34m(self, node, action, metadata, input, retry)\u001b[0m\n\u001b[0;32m    359\u001b[0m     \u001b[38;5;28;01mraise\u001b[39;00m \u001b[38;5;167;01mRuntimeError\u001b[39;00m\n\u001b[0;32m    360\u001b[0m \u001b[38;5;28;01mif\u001b[39;00m node \u001b[38;5;129;01min\u001b[39;00m \u001b[38;5;28mself\u001b[39m\u001b[38;5;241m.\u001b[39mnodes:\n\u001b[1;32m--> 361\u001b[0m     \u001b[38;5;28;01mraise\u001b[39;00m \u001b[38;5;167;01mValueError\u001b[39;00m(\u001b[38;5;124mf\u001b[39m\u001b[38;5;124m\"\u001b[39m\u001b[38;5;124mNode `\u001b[39m\u001b[38;5;132;01m{\u001b[39;00mnode\u001b[38;5;132;01m}\u001b[39;00m\u001b[38;5;124m` already present.\u001b[39m\u001b[38;5;124m\"\u001b[39m)\n\u001b[0;32m    362\u001b[0m \u001b[38;5;28;01mif\u001b[39;00m node \u001b[38;5;241m==\u001b[39m END \u001b[38;5;129;01mor\u001b[39;00m node \u001b[38;5;241m==\u001b[39m START:\n\u001b[0;32m    363\u001b[0m     \u001b[38;5;28;01mraise\u001b[39;00m \u001b[38;5;167;01mValueError\u001b[39;00m(\u001b[38;5;124mf\u001b[39m\u001b[38;5;124m\"\u001b[39m\u001b[38;5;124mNode `\u001b[39m\u001b[38;5;132;01m{\u001b[39;00mnode\u001b[38;5;132;01m}\u001b[39;00m\u001b[38;5;124m` is reserved.\u001b[39m\u001b[38;5;124m\"\u001b[39m)\n",
      "\u001b[1;31mValueError\u001b[0m: Node `human_feedback_function` already present."
     ]
    }
   ],
   "source": [
    "from IPython.display import Image, display\n",
    "from langgraph.graph import START, END, StateGraph\n",
    "from langgraph.checkpoint.memory import MemorySaver\n",
    "from langchain_core.messages import HumanMessage, SystemMessage, AIMessage\n",
    "\n",
    "generate_subtopics_prompt = \"\"\"\n",
    "You are tasked with creating subtopics for a {writing_type}, follow these instructions carefully:\n",
    "1. Carefully analyse this topic to understand what it is and what is required of it:\n",
    "{topic}\n",
    "2. Examine any editorial feedback that has been optionally provided to guide in the creation of subtopics\n",
    "{human_feedback}\n",
    "3. Dertemine the most interesting sub topics and pick the top {max_subtopics}\n",
    "4. In the content part put an empty string for now\n",
    "\"\"\"\n",
    "def generate_subtopics(state: GenerateWritingState):\n",
    "    \n",
    "    writing_type = state[\"writing_type\"]\n",
    "    topic = state[\"topic\"]\n",
    "    human_feedback = state.get(\"human_feedback\", None)\n",
    "    max_subtopics = state[\"max_subtopics\"]\n",
    "    \n",
    "    formatted_prompt = generate_subtopics_prompt.format(writing_type = writing_type, topic = topic, human_feedback = human_feedback, max_subtopics = max_subtopics)\n",
    "    \n",
    "    structured_llm = llm.with_structured_output(SubTopicList)\n",
    "    \n",
    "    subtopics = structured_llm.invoke([SystemMessage(content=formatted_prompt)] + [HumanMessage(content=\"generate subtopics\")])\n",
    "    print(\"I have generated these topics\", subtopics)\n",
    "    return {\"subtopics\" : subtopics.subTopics}\n",
    "\n",
    "def human_feedback_function(state: GenerateWritingState):\n",
    "    pass\n",
    "\n",
    "def human_feedback_writing(state: GenerateWritingState):\n",
    "    pass\n",
    "def subtopics_confirmation(state: GenerateWritingState):\n",
    "    human_feedback = state.get(\"human_feedback\", None)\n",
    "    \n",
    "    if human_feedback:\n",
    "        print(\"am deciding loop\", human_feedback)\n",
    "        return \"generate_subtopics\"\n",
    "    print(\"am deciding to end\", human_feedback)\n",
    "    return \"generate_writing\"\n",
    "\n",
    "writing_prompt = \"\"\"\n",
    "You are an expert in writing a {writing_type}.\n",
    "You are tasked with creating a {writing_type} with these subtopics {subtopics} under this topic {topic}.\n",
    "1. Analyse each subtopic and generate content under the subtopic\n",
    "2. your output should stick to this template example {template}\n",
    "\"\"\"\n",
    "def generate_writing(state: GenerateWritingState):\n",
    "    print(\"I have started writing\")\n",
    "    \"\"\"\n",
    "    Generate writing based on the given state.\n",
    "    \n",
    "    Args:\n",
    "    state (GenerateWritingState): The state of the writing generation process.\n",
    "    \n",
    "    Return:\n",
    "    writing: The generated writing update to the state.\n",
    "    \"\"\"\n",
    "    writing_type = state[\"writing_type\"]\n",
    "    subtopics = state[\"subtopics\"]\n",
    "    template = state[\"template\"]\n",
    "    topic = state[\"topic\"]\n",
    "    writing_instruction = state[\"writing_instruction\"]\n",
    "    formatted_string = f\"'subtopics': [{', '.join([f'SubTopic(title={repr(subtopic.title)}, content={repr(subtopic.content)})' for subtopic in subtopics])}]\"\n",
    "    print(\"formatted string\", formatted_string)\n",
    "    print(\"before formatted writing\")\n",
    "    \n",
    "    formatted_writing_prompt = writing_prompt.format(writing_type = writing_type, subtopics = formatted_string, template= template, topic = topic)\n",
    "    print(\"formatted_writing_prompt\", formatted_writing_prompt)\n",
    "    response = llm.invoke([SystemMessage(content=formatted_writing_prompt)]+[HumanMessage(content=writing_instruction)])\n",
    "    print(\"after calling the llm\")\n",
    "    \n",
    "    print(response)\n",
    "    return {\"writing\": response.content}\n",
    "\n",
    "def writing_confirm(state: GenerateWritingState):\n",
    "    writing_confirm = state['writing_confirm']\n",
    "    if writing_confirm:\n",
    "        return \"END\"\n",
    "    return \"generate_writing\"\n",
    "# create a graph builder\n",
    "builder = StateGraph(GenerateWritingState)\n",
    "\n",
    "# Add a node\n",
    "builder.add_node(generate_subtopics, \"generate_subtopics\")\n",
    "builder.add_node(human_feedback_function, \"human_feedback_function\")\n",
    "builder.add_node(human_feedback_writing, \"human_feedback_writing\")\n",
    "builder.add_node(generate_writing, \"generate_writing\")\n",
    "\n",
    "# add edges\n",
    "builder.add_edge(START, \"generate_subtopics\")\n",
    "builder.add_edge(\"generate_subtopics\", \"human_feedback_function\")\n",
    "builder.add_conditional_edges(\"human_feedback_function\", subtopics_confirmation, [\"generate_subtopics\", \"generate_writing\"])\n",
    "builder.add_edge(\"generate_writing\", \"human_feedback_writing\")\n",
    "builder.add_conditional_edges(\"human_feedback_writing\", \"writing_confirm\", [\"generate_writing\", \"END\"])\n",
    "\n",
    "\n",
    "# Compile\n",
    "memory = MemorySaver()\n",
    "graph_2 = builder.compile(interrupt_before=['human_feedback_function', 'generate_writing'],checkpointer=memory)\n",
    "\n",
    "# View\n",
    "display(Image(graph_2.get_graph(xray=1).draw_mermaid_png()))\n",
    "\n",
    "\n",
    "\n",
    "    "
   ]
  },
  {
   "cell_type": "code",
   "execution_count": null,
   "metadata": {},
   "outputs": [
    {
     "name": "stdout",
     "output_type": "stream",
     "text": [
      "I have generated these topics subTopics=[SubTopic(title='Introduction to Artificial Intelligence', content=''), SubTopic(title='History and Evolution of AI', content=''), SubTopic(title='Applications of Artificial Intelligence in Various Industries', content='')]\n"
     ]
    },
    {
     "data": {
      "text/plain": [
       "{'topic': 'what is Artificial intelligence',\n",
       " 'writing_type': 'Blog',\n",
       " 'subtopics': [SubTopic(title='Introduction to Artificial Intelligence', content=''),\n",
       "  SubTopic(title='History and Evolution of AI', content=''),\n",
       "  SubTopic(title='Applications of Artificial Intelligence in Various Industries', content='')],\n",
       " 'max_subtopics': 3,\n",
       " 'template': '\\nBlog Title\\n\\nIntroduction\\n    - Brief overview of the topic\\n    - Hook to engage the reader\\n\\nSubtopic 1: Background/Context\\n    - Explanation of key terms or concepts\\n    - Importance or relevance of the topic\\n\\nSubtopic 2: Main Discussion/Analysis\\n    - Detailed exploration of the topic\\n    - Supporting arguments or evidence\\n    - Examples or case studies\\n\\nSubtopic 3: Challenges or Considerations\\n    - Possible issues or complexities\\n    - Contrasting perspectives (if applicable)\\n\\nSubtopic 4: Solutions/Insights\\n    - Proposed solutions or strategies\\n    - Key takeaways or lessons\\n\\nConclusion\\n    - Summary of main points\\n    - Call to action or closing thoughts\\n\\nOptional: References/Further Reading\\n    - Links or citations for deeper exploration\\n'}"
      ]
     },
     "execution_count": 14,
     "metadata": {},
     "output_type": "execute_result"
    }
   ],
   "source": [
    "topic = \"what is Artificial intelligence\"\n",
    "writing_type = \"Blog\"\n",
    "max_subtopics = 3\n",
    "template = \"\"\"\n",
    "Blog Title\n",
    "\n",
    "Introduction\n",
    "    - Brief overview of the topic\n",
    "    - Hook to engage the reader\n",
    "\n",
    "Subtopic 1: Background/Context\n",
    "    - Explanation of key terms or concepts\n",
    "    - Importance or relevance of the topic\n",
    "\n",
    "Subtopic 2: Main Discussion/Analysis\n",
    "    - Detailed exploration of the topic\n",
    "    - Supporting arguments or evidence\n",
    "    - Examples or case studies\n",
    "\n",
    "Subtopic 3: Challenges or Considerations\n",
    "    - Possible issues or complexities\n",
    "    - Contrasting perspectives (if applicable)\n",
    "\n",
    "Subtopic 4: Solutions/Insights\n",
    "    - Proposed solutions or strategies\n",
    "    - Key takeaways or lessons\n",
    "\n",
    "Conclusion\n",
    "    - Summary of main points\n",
    "    - Call to action or closing thoughts\n",
    "\n",
    "Optional: References/Further Reading\n",
    "    - Links or citations for deeper exploration\n",
    "\"\"\"\n",
    "\n",
    "thread_2 = {\"configurable\": {\"thread_id\": \"2\"}}\n",
    "graph_2.invoke({\"topic\":topic, \"writing_type\": writing_type, \"max_subtopics\": max_subtopics, \"template\": template }, thread_2)\n"
   ]
  },
  {
   "cell_type": "code",
   "execution_count": null,
   "metadata": {},
   "outputs": [
    {
     "name": "stdout",
     "output_type": "stream",
     "text": [
      "am deciding loop dont talk about the history, talk about the types of of AI and gen AI\n"
     ]
    },
    {
     "data": {
      "text/plain": [
       "{'configurable': {'thread_id': '2',\n",
       "  'checkpoint_ns': '',\n",
       "  'checkpoint_id': '1efaadbd-1a3f-6bd0-8000-8c57d9b8b0a1'}}"
      ]
     },
     "execution_count": 15,
     "metadata": {},
     "output_type": "execute_result"
    }
   ],
   "source": [
    "graph_2.update_state(thread_2,{\"human_feedback\": \"dont talk about the history, talk about the types of of AI and gen AI\"}, as_node=\"human_feedback_function\")"
   ]
  },
  {
   "cell_type": "code",
   "execution_count": null,
   "metadata": {},
   "outputs": [
    {
     "data": {
      "text/plain": [
       "{'human_feedback': 'dont talk about the history, talk about the types of of AI and gen AI'}"
      ]
     },
     "execution_count": 16,
     "metadata": {},
     "output_type": "execute_result"
    }
   ],
   "source": [
    "graph_2.get_state(thread_2).values"
   ]
  },
  {
   "cell_type": "code",
   "execution_count": null,
   "metadata": {},
   "outputs": [
    {
     "ename": "KeyError",
     "evalue": "'writing_type'",
     "output_type": "error",
     "traceback": [
      "\u001b[1;31m---------------------------------------------------------------------------\u001b[0m",
      "\u001b[1;31mKeyError\u001b[0m                                  Traceback (most recent call last)",
      "Cell \u001b[1;32mIn[17], line 1\u001b[0m\n\u001b[1;32m----> 1\u001b[0m \u001b[43mgraph_2\u001b[49m\u001b[38;5;241;43m.\u001b[39;49m\u001b[43minvoke\u001b[49m\u001b[43m(\u001b[49m\u001b[38;5;28;43;01mNone\u001b[39;49;00m\u001b[43m,\u001b[49m\u001b[43m \u001b[49m\u001b[43mthread_2\u001b[49m\u001b[43m)\u001b[49m\n",
      "File \u001b[1;32mc:\\Users\\mavun\\OneDrive\\Documents\\programing\\langchain\\my_env\\Lib\\site-packages\\langgraph\\pregel\\__init__.py:1884\u001b[0m, in \u001b[0;36mPregel.invoke\u001b[1;34m(self, input, config, stream_mode, output_keys, interrupt_before, interrupt_after, debug, **kwargs)\u001b[0m\n\u001b[0;32m   1882\u001b[0m \u001b[38;5;28;01melse\u001b[39;00m:\n\u001b[0;32m   1883\u001b[0m     chunks \u001b[38;5;241m=\u001b[39m []\n\u001b[1;32m-> 1884\u001b[0m \u001b[43m\u001b[49m\u001b[38;5;28;43;01mfor\u001b[39;49;00m\u001b[43m \u001b[49m\u001b[43mchunk\u001b[49m\u001b[43m \u001b[49m\u001b[38;5;129;43;01min\u001b[39;49;00m\u001b[43m \u001b[49m\u001b[38;5;28;43mself\u001b[39;49m\u001b[38;5;241;43m.\u001b[39;49m\u001b[43mstream\u001b[49m\u001b[43m(\u001b[49m\n\u001b[0;32m   1885\u001b[0m \u001b[43m    \u001b[49m\u001b[38;5;28;43minput\u001b[39;49m\u001b[43m,\u001b[49m\n\u001b[0;32m   1886\u001b[0m \u001b[43m    \u001b[49m\u001b[43mconfig\u001b[49m\u001b[43m,\u001b[49m\n\u001b[0;32m   1887\u001b[0m \u001b[43m    \u001b[49m\u001b[43mstream_mode\u001b[49m\u001b[38;5;241;43m=\u001b[39;49m\u001b[43mstream_mode\u001b[49m\u001b[43m,\u001b[49m\n\u001b[0;32m   1888\u001b[0m \u001b[43m    \u001b[49m\u001b[43moutput_keys\u001b[49m\u001b[38;5;241;43m=\u001b[39;49m\u001b[43moutput_keys\u001b[49m\u001b[43m,\u001b[49m\n\u001b[0;32m   1889\u001b[0m \u001b[43m    \u001b[49m\u001b[43minterrupt_before\u001b[49m\u001b[38;5;241;43m=\u001b[39;49m\u001b[43minterrupt_before\u001b[49m\u001b[43m,\u001b[49m\n\u001b[0;32m   1890\u001b[0m \u001b[43m    \u001b[49m\u001b[43minterrupt_after\u001b[49m\u001b[38;5;241;43m=\u001b[39;49m\u001b[43minterrupt_after\u001b[49m\u001b[43m,\u001b[49m\n\u001b[0;32m   1891\u001b[0m \u001b[43m    \u001b[49m\u001b[43mdebug\u001b[49m\u001b[38;5;241;43m=\u001b[39;49m\u001b[43mdebug\u001b[49m\u001b[43m,\u001b[49m\n\u001b[0;32m   1892\u001b[0m \u001b[43m    \u001b[49m\u001b[38;5;241;43m*\u001b[39;49m\u001b[38;5;241;43m*\u001b[39;49m\u001b[43mkwargs\u001b[49m\u001b[43m,\u001b[49m\n\u001b[0;32m   1893\u001b[0m \u001b[43m\u001b[49m\u001b[43m)\u001b[49m\u001b[43m:\u001b[49m\n\u001b[0;32m   1894\u001b[0m \u001b[43m    \u001b[49m\u001b[38;5;28;43;01mif\u001b[39;49;00m\u001b[43m \u001b[49m\u001b[43mstream_mode\u001b[49m\u001b[43m \u001b[49m\u001b[38;5;241;43m==\u001b[39;49m\u001b[43m \u001b[49m\u001b[38;5;124;43m\"\u001b[39;49m\u001b[38;5;124;43mvalues\u001b[39;49m\u001b[38;5;124;43m\"\u001b[39;49m\u001b[43m:\u001b[49m\n\u001b[0;32m   1895\u001b[0m \u001b[43m        \u001b[49m\u001b[43mlatest\u001b[49m\u001b[43m \u001b[49m\u001b[38;5;241;43m=\u001b[39;49m\u001b[43m \u001b[49m\u001b[43mchunk\u001b[49m\n",
      "File \u001b[1;32mc:\\Users\\mavun\\OneDrive\\Documents\\programing\\langchain\\my_env\\Lib\\site-packages\\langgraph\\pregel\\__init__.py:1612\u001b[0m, in \u001b[0;36mPregel.stream\u001b[1;34m(self, input, config, stream_mode, output_keys, interrupt_before, interrupt_after, debug, subgraphs)\u001b[0m\n\u001b[0;32m   1606\u001b[0m     \u001b[38;5;66;03m# Similarly to Bulk Synchronous Parallel / Pregel model\u001b[39;00m\n\u001b[0;32m   1607\u001b[0m     \u001b[38;5;66;03m# computation proceeds in steps, while there are channel updates\u001b[39;00m\n\u001b[0;32m   1608\u001b[0m     \u001b[38;5;66;03m# channel updates from step N are only visible in step N+1\u001b[39;00m\n\u001b[0;32m   1609\u001b[0m     \u001b[38;5;66;03m# channels are guaranteed to be immutable for the duration of the step,\u001b[39;00m\n\u001b[0;32m   1610\u001b[0m     \u001b[38;5;66;03m# with channel updates applied only at the transition between steps\u001b[39;00m\n\u001b[0;32m   1611\u001b[0m     \u001b[38;5;28;01mwhile\u001b[39;00m loop\u001b[38;5;241m.\u001b[39mtick(input_keys\u001b[38;5;241m=\u001b[39m\u001b[38;5;28mself\u001b[39m\u001b[38;5;241m.\u001b[39minput_channels):\n\u001b[1;32m-> 1612\u001b[0m \u001b[43m        \u001b[49m\u001b[38;5;28;43;01mfor\u001b[39;49;00m\u001b[43m \u001b[49m\u001b[43m_\u001b[49m\u001b[43m \u001b[49m\u001b[38;5;129;43;01min\u001b[39;49;00m\u001b[43m \u001b[49m\u001b[43mrunner\u001b[49m\u001b[38;5;241;43m.\u001b[39;49m\u001b[43mtick\u001b[49m\u001b[43m(\u001b[49m\n\u001b[0;32m   1613\u001b[0m \u001b[43m            \u001b[49m\u001b[43mloop\u001b[49m\u001b[38;5;241;43m.\u001b[39;49m\u001b[43mtasks\u001b[49m\u001b[38;5;241;43m.\u001b[39;49m\u001b[43mvalues\u001b[49m\u001b[43m(\u001b[49m\u001b[43m)\u001b[49m\u001b[43m,\u001b[49m\n\u001b[0;32m   1614\u001b[0m \u001b[43m            \u001b[49m\u001b[43mtimeout\u001b[49m\u001b[38;5;241;43m=\u001b[39;49m\u001b[38;5;28;43mself\u001b[39;49m\u001b[38;5;241;43m.\u001b[39;49m\u001b[43mstep_timeout\u001b[49m\u001b[43m,\u001b[49m\n\u001b[0;32m   1615\u001b[0m \u001b[43m            \u001b[49m\u001b[43mretry_policy\u001b[49m\u001b[38;5;241;43m=\u001b[39;49m\u001b[38;5;28;43mself\u001b[39;49m\u001b[38;5;241;43m.\u001b[39;49m\u001b[43mretry_policy\u001b[49m\u001b[43m,\u001b[49m\n\u001b[0;32m   1616\u001b[0m \u001b[43m            \u001b[49m\u001b[43mget_waiter\u001b[49m\u001b[38;5;241;43m=\u001b[39;49m\u001b[43mget_waiter\u001b[49m\u001b[43m,\u001b[49m\n\u001b[0;32m   1617\u001b[0m \u001b[43m        \u001b[49m\u001b[43m)\u001b[49m\u001b[43m:\u001b[49m\n\u001b[0;32m   1618\u001b[0m \u001b[43m            \u001b[49m\u001b[38;5;66;43;03m# emit output\u001b[39;49;00m\n\u001b[0;32m   1619\u001b[0m \u001b[43m            \u001b[49m\u001b[38;5;28;43;01myield from\u001b[39;49;00m\u001b[43m \u001b[49m\u001b[43moutput\u001b[49m\u001b[43m(\u001b[49m\u001b[43m)\u001b[49m\n\u001b[0;32m   1620\u001b[0m \u001b[38;5;66;03m# emit output\u001b[39;00m\n",
      "File \u001b[1;32mc:\\Users\\mavun\\OneDrive\\Documents\\programing\\langchain\\my_env\\Lib\\site-packages\\langgraph\\pregel\\runner.py:104\u001b[0m, in \u001b[0;36mPregelRunner.tick\u001b[1;34m(self, tasks, reraise, timeout, retry_policy, get_waiter)\u001b[0m\n\u001b[0;32m    102\u001b[0m t \u001b[38;5;241m=\u001b[39m tasks[\u001b[38;5;241m0\u001b[39m]\n\u001b[0;32m    103\u001b[0m \u001b[38;5;28;01mtry\u001b[39;00m:\n\u001b[1;32m--> 104\u001b[0m     \u001b[43mrun_with_retry\u001b[49m\u001b[43m(\u001b[49m\u001b[43mt\u001b[49m\u001b[43m,\u001b[49m\u001b[43m \u001b[49m\u001b[43mretry_policy\u001b[49m\u001b[43m,\u001b[49m\u001b[43m \u001b[49m\u001b[43mwriter\u001b[49m\u001b[38;5;241;43m=\u001b[39;49m\u001b[43mwriter\u001b[49m\u001b[43m)\u001b[49m\n\u001b[0;32m    105\u001b[0m     \u001b[38;5;28mself\u001b[39m\u001b[38;5;241m.\u001b[39mcommit(t, \u001b[38;5;28;01mNone\u001b[39;00m)\n\u001b[0;32m    106\u001b[0m \u001b[38;5;28;01mexcept\u001b[39;00m \u001b[38;5;167;01mException\u001b[39;00m \u001b[38;5;28;01mas\u001b[39;00m exc:\n",
      "File \u001b[1;32mc:\\Users\\mavun\\OneDrive\\Documents\\programing\\langchain\\my_env\\Lib\\site-packages\\langgraph\\pregel\\retry.py:40\u001b[0m, in \u001b[0;36mrun_with_retry\u001b[1;34m(task, retry_policy, writer)\u001b[0m\n\u001b[0;32m     38\u001b[0m task\u001b[38;5;241m.\u001b[39mwrites\u001b[38;5;241m.\u001b[39mclear()\n\u001b[0;32m     39\u001b[0m \u001b[38;5;66;03m# run the task\u001b[39;00m\n\u001b[1;32m---> 40\u001b[0m \u001b[43mtask\u001b[49m\u001b[38;5;241;43m.\u001b[39;49m\u001b[43mproc\u001b[49m\u001b[38;5;241;43m.\u001b[39;49m\u001b[43minvoke\u001b[49m\u001b[43m(\u001b[49m\u001b[43mtask\u001b[49m\u001b[38;5;241;43m.\u001b[39;49m\u001b[43minput\u001b[49m\u001b[43m,\u001b[49m\u001b[43m \u001b[49m\u001b[43mconfig\u001b[49m\u001b[43m)\u001b[49m\n\u001b[0;32m     41\u001b[0m \u001b[38;5;66;03m# if successful, end\u001b[39;00m\n\u001b[0;32m     42\u001b[0m \u001b[38;5;28;01mbreak\u001b[39;00m\n",
      "File \u001b[1;32mc:\\Users\\mavun\\OneDrive\\Documents\\programing\\langchain\\my_env\\Lib\\site-packages\\langgraph\\utils\\runnable.py:410\u001b[0m, in \u001b[0;36mRunnableSeq.invoke\u001b[1;34m(self, input, config, **kwargs)\u001b[0m\n\u001b[0;32m    408\u001b[0m context\u001b[38;5;241m.\u001b[39mrun(_set_config_context, config)\n\u001b[0;32m    409\u001b[0m \u001b[38;5;28;01mif\u001b[39;00m i \u001b[38;5;241m==\u001b[39m \u001b[38;5;241m0\u001b[39m:\n\u001b[1;32m--> 410\u001b[0m     \u001b[38;5;28minput\u001b[39m \u001b[38;5;241m=\u001b[39m \u001b[43mcontext\u001b[49m\u001b[38;5;241;43m.\u001b[39;49m\u001b[43mrun\u001b[49m\u001b[43m(\u001b[49m\u001b[43mstep\u001b[49m\u001b[38;5;241;43m.\u001b[39;49m\u001b[43minvoke\u001b[49m\u001b[43m,\u001b[49m\u001b[43m \u001b[49m\u001b[38;5;28;43minput\u001b[39;49m\u001b[43m,\u001b[49m\u001b[43m \u001b[49m\u001b[43mconfig\u001b[49m\u001b[43m,\u001b[49m\u001b[43m \u001b[49m\u001b[38;5;241;43m*\u001b[39;49m\u001b[38;5;241;43m*\u001b[39;49m\u001b[43mkwargs\u001b[49m\u001b[43m)\u001b[49m\n\u001b[0;32m    411\u001b[0m \u001b[38;5;28;01melse\u001b[39;00m:\n\u001b[0;32m    412\u001b[0m     \u001b[38;5;28minput\u001b[39m \u001b[38;5;241m=\u001b[39m context\u001b[38;5;241m.\u001b[39mrun(step\u001b[38;5;241m.\u001b[39minvoke, \u001b[38;5;28minput\u001b[39m, config)\n",
      "File \u001b[1;32mc:\\Users\\mavun\\OneDrive\\Documents\\programing\\langchain\\my_env\\Lib\\site-packages\\langgraph\\utils\\runnable.py:184\u001b[0m, in \u001b[0;36mRunnableCallable.invoke\u001b[1;34m(self, input, config, **kwargs)\u001b[0m\n\u001b[0;32m    182\u001b[0m \u001b[38;5;28;01melse\u001b[39;00m:\n\u001b[0;32m    183\u001b[0m     context\u001b[38;5;241m.\u001b[39mrun(_set_config_context, config)\n\u001b[1;32m--> 184\u001b[0m     ret \u001b[38;5;241m=\u001b[39m \u001b[43mcontext\u001b[49m\u001b[38;5;241;43m.\u001b[39;49m\u001b[43mrun\u001b[49m\u001b[43m(\u001b[49m\u001b[38;5;28;43mself\u001b[39;49m\u001b[38;5;241;43m.\u001b[39;49m\u001b[43mfunc\u001b[49m\u001b[43m,\u001b[49m\u001b[43m \u001b[49m\u001b[38;5;28;43minput\u001b[39;49m\u001b[43m,\u001b[49m\u001b[43m \u001b[49m\u001b[38;5;241;43m*\u001b[39;49m\u001b[38;5;241;43m*\u001b[39;49m\u001b[43mkwargs\u001b[49m\u001b[43m)\u001b[49m\n\u001b[0;32m    185\u001b[0m \u001b[38;5;28;01mif\u001b[39;00m \u001b[38;5;28misinstance\u001b[39m(ret, Runnable) \u001b[38;5;129;01mand\u001b[39;00m \u001b[38;5;28mself\u001b[39m\u001b[38;5;241m.\u001b[39mrecurse:\n\u001b[0;32m    186\u001b[0m     \u001b[38;5;28;01mreturn\u001b[39;00m ret\u001b[38;5;241m.\u001b[39minvoke(\u001b[38;5;28minput\u001b[39m, config)\n",
      "Cell \u001b[1;32mIn[13], line 17\u001b[0m, in \u001b[0;36mgenerate_subtopics\u001b[1;34m(state)\u001b[0m\n\u001b[0;32m     15\u001b[0m \u001b[38;5;28;01mdef\u001b[39;00m \u001b[38;5;21mgenerate_subtopics\u001b[39m(state: GenerateWritingState):\n\u001b[1;32m---> 17\u001b[0m     writing_type \u001b[38;5;241m=\u001b[39m \u001b[43mstate\u001b[49m\u001b[43m[\u001b[49m\u001b[38;5;124;43m\"\u001b[39;49m\u001b[38;5;124;43mwriting_type\u001b[39;49m\u001b[38;5;124;43m\"\u001b[39;49m\u001b[43m]\u001b[49m\n\u001b[0;32m     18\u001b[0m     topic \u001b[38;5;241m=\u001b[39m state[\u001b[38;5;124m\"\u001b[39m\u001b[38;5;124mtopic\u001b[39m\u001b[38;5;124m\"\u001b[39m]\n\u001b[0;32m     19\u001b[0m     human_feedback \u001b[38;5;241m=\u001b[39m state\u001b[38;5;241m.\u001b[39mget(\u001b[38;5;124m\"\u001b[39m\u001b[38;5;124mhuman_feedback\u001b[39m\u001b[38;5;124m\"\u001b[39m, \u001b[38;5;28;01mNone\u001b[39;00m)\n",
      "\u001b[1;31mKeyError\u001b[0m: 'writing_type'"
     ]
    }
   ],
   "source": [
    "graph_2.invoke(None, thread_2)"
   ]
  },
  {
   "cell_type": "code",
   "execution_count": null,
   "metadata": {},
   "outputs": [
    {
     "data": {
      "text/plain": [
       "{'configurable': {'thread_id': '2',\n",
       "  'checkpoint_ns': '',\n",
       "  'checkpoint_id': '1efa67d1-2a35-63ed-8004-b272a6cd09d5'}}"
      ]
     },
     "execution_count": 197,
     "metadata": {},
     "output_type": "execute_result"
    }
   ],
   "source": [
    "graph_2.update_state(thread_2,{\"human_feedback\": None})"
   ]
  },
  {
   "cell_type": "code",
   "execution_count": null,
   "metadata": {},
   "outputs": [
    {
     "data": {
      "text/plain": [
       "{'topic': 'what is Artificial intelligence',\n",
       " 'writing_type': 'Blog',\n",
       " 'subtopics': [SubTopic(title='Understanding Artificial Intelligence', content=''),\n",
       "  SubTopic(title='Types of Artificial Intelligence', content=''),\n",
       "  SubTopic(title='Generative AI: The Future of Creativity', content='')],\n",
       " 'max_subtopics': 3,\n",
       " 'template': '\\nBlog Title\\n\\nIntroduction\\n    - Brief overview of the topic\\n    - Hook to engage the reader\\n\\nSubtopic 1: Background/Context\\n    - Explanation of key terms or concepts\\n    - Importance or relevance of the topic\\n\\nSubtopic 2: Main Discussion/Analysis\\n    - Detailed exploration of the topic\\n    - Supporting arguments or evidence\\n    - Examples or case studies\\n\\nSubtopic 3: Challenges or Considerations\\n    - Possible issues or complexities\\n    - Contrasting perspectives (if applicable)\\n\\nSubtopic 4: Solutions/Insights\\n    - Proposed solutions or strategies\\n    - Key takeaways or lessons\\n\\nConclusion\\n    - Summary of main points\\n    - Call to action or closing thoughts\\n\\nOptional: References/Further Reading\\n    - Links or citations for deeper exploration\\n'}"
      ]
     },
     "execution_count": 198,
     "metadata": {},
     "output_type": "execute_result"
    }
   ],
   "source": [
    "graph_2.get_state(thread_2).values"
   ]
  },
  {
   "cell_type": "code",
   "execution_count": null,
   "metadata": {},
   "outputs": [
    {
     "name": "stdout",
     "output_type": "stream",
     "text": [
      "am deciding to end None\n",
      "I have started writing\n",
      "formatted string 'subtopics': [SubTopic(title='Understanding Artificial Intelligence', content=''), SubTopic(title='Types of Artificial Intelligence', content=''), SubTopic(title='Generative AI: The Future of Creativity', content='')]\n",
      "before formatted writing\n",
      "formatted_writing_prompt \n",
      "You are an expert in writing a Blog.\n",
      "You are tasked with creating a Blog with these subtopics 'subtopics': [SubTopic(title='Understanding Artificial Intelligence', content=''), SubTopic(title='Types of Artificial Intelligence', content=''), SubTopic(title='Generative AI: The Future of Creativity', content='')] under this topic what is Artificial intelligence.\n",
      "1. Analyse each subtopic and generate content under the subtopic\n",
      "2. your output should stick to this template example \n",
      "Blog Title\n",
      "\n",
      "Introduction\n",
      "    - Brief overview of the topic\n",
      "    - Hook to engage the reader\n",
      "\n",
      "Subtopic 1: Background/Context\n",
      "    - Explanation of key terms or concepts\n",
      "    - Importance or relevance of the topic\n",
      "\n",
      "Subtopic 2: Main Discussion/Analysis\n",
      "    - Detailed exploration of the topic\n",
      "    - Supporting arguments or evidence\n",
      "    - Examples or case studies\n",
      "\n",
      "Subtopic 3: Challenges or Considerations\n",
      "    - Possible issues or complexities\n",
      "    - Contrasting perspectives (if applicable)\n",
      "\n",
      "Subtopic 4: Solutions/Insights\n",
      "    - Proposed solutions or strategies\n",
      "    - Key takeaways or lessons\n",
      "\n",
      "Conclusion\n",
      "    - Summary of main points\n",
      "    - Call to action or closing thoughts\n",
      "\n",
      "Optional: References/Further Reading\n",
      "    - Links or citations for deeper exploration\n",
      "\n",
      "\n",
      "after calling the llm\n",
      "content='**Blog Title: What is Artificial Intelligence?**\\n\\n**Introduction**\\n- Artificial Intelligence (AI) is transforming the way we live, work, and interact with technology. From self-driving cars to virtual assistants, AI is at the forefront of innovation. But what exactly is AI, and how does it impact our world?\\n- In this blog, we will delve into the fascinating world of AI, exploring its definition, types, and the emerging field of generative AI, which is reshaping creativity as we know it.\\n\\n**Subtopic 1: Understanding Artificial Intelligence**\\n- Artificial Intelligence refers to the simulation of human intelligence in machines that are programmed to think and learn like humans. It encompasses a wide range of technologies, including machine learning, natural language processing, and robotics.\\n- The importance of AI lies in its ability to process vast amounts of data quickly and accurately, making it a powerful tool for solving complex problems and enhancing decision-making processes across various industries.\\n\\n**Subtopic 2: Types of Artificial Intelligence**\\n- AI can be categorized into three main types: Narrow AI, General AI, and Superintelligent AI. Narrow AI, also known as weak AI, is designed to perform specific tasks, such as facial recognition or language translation. General AI, or strong AI, possesses the ability to understand, learn, and apply knowledge across a wide range of tasks, similar to human intelligence. Superintelligent AI surpasses human intelligence and is still a theoretical concept.\\n- Each type of AI has its own set of capabilities and limitations, and understanding these distinctions is crucial for harnessing AI\\'s potential effectively.\\n\\n**Subtopic 3: Generative AI: The Future of Creativity**\\n- Generative AI is a subset of AI that focuses on creating new content, such as art, music, and text, by learning patterns from existing data. It uses algorithms like Generative Adversarial Networks (GANs) to produce original and innovative outputs.\\n- This technology is revolutionizing creative industries by enabling artists and designers to push the boundaries of their work. For instance, AI-generated art is gaining popularity, with some pieces even being sold at prestigious auctions.\\n\\n**Subtopic 4: Challenges or Considerations**\\n- Despite its potential, AI presents several challenges, including ethical concerns, data privacy issues, and the risk of job displacement. The development of AI systems also requires significant computational resources and expertise.\\n- There are contrasting perspectives on AI\\'s impact on society. While some view it as a tool for progress, others fear its potential to disrupt traditional industries and exacerbate inequalities.\\n\\n**Subtopic 5: Solutions/Insights**\\n- To address these challenges, it is essential to establish ethical guidelines and regulatory frameworks that ensure AI is developed and used responsibly. Investing in education and training can also help prepare the workforce for an AI-driven future.\\n- Key takeaways include the need for collaboration between policymakers, technologists, and society to harness AI\\'s benefits while mitigating its risks.\\n\\n**Conclusion**\\n- Artificial Intelligence is a powerful and transformative technology with the potential to reshape our world. By understanding its various types and applications, we can better appreciate its impact and navigate the challenges it presents.\\n- As we continue to explore the possibilities of AI, it is crucial to remain informed and engaged in discussions about its ethical and societal implications.\\n\\n**Optional: References/Further Reading**\\n- \"Artificial Intelligence: A Guide to Intelligent Systems\" by Michael Negnevitsky\\n- \"Superintelligence: Paths, Dangers, Strategies\" by Nick Bostrom\\n- Online resources such as the AI section on the MIT Technology Review website for the latest developments in AI research and applications.' additional_kwargs={'refusal': None} response_metadata={'token_usage': {'completion_tokens': 731, 'prompt_tokens': 275, 'total_tokens': 1006, 'completion_tokens_details': {'accepted_prediction_tokens': 0, 'audio_tokens': 0, 'reasoning_tokens': 0, 'rejected_prediction_tokens': 0}, 'prompt_tokens_details': {'audio_tokens': 0, 'cached_tokens': 0}}, 'model_name': 'gpt-4o-2024-08-06', 'system_fingerprint': 'fp_831e067d82', 'finish_reason': 'stop', 'logprobs': None} id='run-511c9c40-4cb8-4a39-91b7-a0a7dd0cab4f-0' usage_metadata={'input_tokens': 275, 'output_tokens': 731, 'total_tokens': 1006, 'input_token_details': {'audio': 0, 'cache_read': 0}, 'output_token_details': {'audio': 0, 'reasoning': 0}}\n"
     ]
    },
    {
     "data": {
      "text/plain": [
       "{'topic': 'what is Artificial intelligence',\n",
       " 'writing_type': 'Blog',\n",
       " 'subtopics': [SubTopic(title='Understanding Artificial Intelligence', content=''),\n",
       "  SubTopic(title='Types of Artificial Intelligence', content=''),\n",
       "  SubTopic(title='Generative AI: The Future of Creativity', content='')],\n",
       " 'max_subtopics': 3,\n",
       " 'template': '\\nBlog Title\\n\\nIntroduction\\n    - Brief overview of the topic\\n    - Hook to engage the reader\\n\\nSubtopic 1: Background/Context\\n    - Explanation of key terms or concepts\\n    - Importance or relevance of the topic\\n\\nSubtopic 2: Main Discussion/Analysis\\n    - Detailed exploration of the topic\\n    - Supporting arguments or evidence\\n    - Examples or case studies\\n\\nSubtopic 3: Challenges or Considerations\\n    - Possible issues or complexities\\n    - Contrasting perspectives (if applicable)\\n\\nSubtopic 4: Solutions/Insights\\n    - Proposed solutions or strategies\\n    - Key takeaways or lessons\\n\\nConclusion\\n    - Summary of main points\\n    - Call to action or closing thoughts\\n\\nOptional: References/Further Reading\\n    - Links or citations for deeper exploration\\n',\n",
       " 'writing': '**Blog Title: What is Artificial Intelligence?**\\n\\n**Introduction**\\n- Artificial Intelligence (AI) is transforming the way we live, work, and interact with technology. From self-driving cars to virtual assistants, AI is at the forefront of innovation. But what exactly is AI, and how does it impact our world?\\n- In this blog, we will delve into the fascinating world of AI, exploring its definition, types, and the emerging field of generative AI, which is reshaping creativity as we know it.\\n\\n**Subtopic 1: Understanding Artificial Intelligence**\\n- Artificial Intelligence refers to the simulation of human intelligence in machines that are programmed to think and learn like humans. It encompasses a wide range of technologies, including machine learning, natural language processing, and robotics.\\n- The importance of AI lies in its ability to process vast amounts of data quickly and accurately, making it a powerful tool for solving complex problems and enhancing decision-making processes across various industries.\\n\\n**Subtopic 2: Types of Artificial Intelligence**\\n- AI can be categorized into three main types: Narrow AI, General AI, and Superintelligent AI. Narrow AI, also known as weak AI, is designed to perform specific tasks, such as facial recognition or language translation. General AI, or strong AI, possesses the ability to understand, learn, and apply knowledge across a wide range of tasks, similar to human intelligence. Superintelligent AI surpasses human intelligence and is still a theoretical concept.\\n- Each type of AI has its own set of capabilities and limitations, and understanding these distinctions is crucial for harnessing AI\\'s potential effectively.\\n\\n**Subtopic 3: Generative AI: The Future of Creativity**\\n- Generative AI is a subset of AI that focuses on creating new content, such as art, music, and text, by learning patterns from existing data. It uses algorithms like Generative Adversarial Networks (GANs) to produce original and innovative outputs.\\n- This technology is revolutionizing creative industries by enabling artists and designers to push the boundaries of their work. For instance, AI-generated art is gaining popularity, with some pieces even being sold at prestigious auctions.\\n\\n**Subtopic 4: Challenges or Considerations**\\n- Despite its potential, AI presents several challenges, including ethical concerns, data privacy issues, and the risk of job displacement. The development of AI systems also requires significant computational resources and expertise.\\n- There are contrasting perspectives on AI\\'s impact on society. While some view it as a tool for progress, others fear its potential to disrupt traditional industries and exacerbate inequalities.\\n\\n**Subtopic 5: Solutions/Insights**\\n- To address these challenges, it is essential to establish ethical guidelines and regulatory frameworks that ensure AI is developed and used responsibly. Investing in education and training can also help prepare the workforce for an AI-driven future.\\n- Key takeaways include the need for collaboration between policymakers, technologists, and society to harness AI\\'s benefits while mitigating its risks.\\n\\n**Conclusion**\\n- Artificial Intelligence is a powerful and transformative technology with the potential to reshape our world. By understanding its various types and applications, we can better appreciate its impact and navigate the challenges it presents.\\n- As we continue to explore the possibilities of AI, it is crucial to remain informed and engaged in discussions about its ethical and societal implications.\\n\\n**Optional: References/Further Reading**\\n- \"Artificial Intelligence: A Guide to Intelligent Systems\" by Michael Negnevitsky\\n- \"Superintelligence: Paths, Dangers, Strategies\" by Nick Bostrom\\n- Online resources such as the AI section on the MIT Technology Review website for the latest developments in AI research and applications.'}"
      ]
     },
     "execution_count": 199,
     "metadata": {},
     "output_type": "execute_result"
    }
   ],
   "source": [
    "graph_2.invoke(None, thread_2)"
   ]
  },
  {
   "cell_type": "code",
   "execution_count": null,
   "metadata": {},
   "outputs": [],
   "source": []
  }
 ],
 "metadata": {
  "kernelspec": {
   "display_name": "Python 3",
   "language": "python",
   "name": "python3"
  },
  "language_info": {
   "codemirror_mode": {
    "name": "ipython",
    "version": 3
   },
   "file_extension": ".py",
   "mimetype": "text/x-python",
   "name": "python",
   "nbconvert_exporter": "python",
   "pygments_lexer": "ipython3",
   "version": "3.11.5"
  }
 },
 "nbformat": 4,
 "nbformat_minor": 2
}
