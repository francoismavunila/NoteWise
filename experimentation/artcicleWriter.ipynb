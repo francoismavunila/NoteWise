{
 "cells": [
  {
   "cell_type": "markdown",
   "metadata": {},
   "source": [
    "## Writing Assistant - NoteWise\n",
    "\n",
    "### Description\n",
    "NoteWise is a writing assistant, with the following functionalities\n",
    "\n",
    "`Topic Selection`\n",
    "* The use enter the topic they want to write about\n",
    "\n",
    "`Template`\n",
    "* The user can select the template they want to use for their writing\n",
    "\n",
    "`subtopic Generation`\n",
    "* The Agent generates subtopics based on the topics, reserach (websearch)\n",
    "* The user can select the subtopics they want to write about \n",
    "\n",
    "`Research Tools`\n",
    "* Research tools include wikipedia, web search and user input(content from the user)\n",
    "* The user can select the research tool they want to use for their writing\n",
    "\n",
    "`Document Writing`\n",
    "* The Agent generates the writing based on the research tools and the user input\n",
    "* The user can confirm the writing or correct it \n"
   ]
  },
  {
   "cell_type": "code",
   "execution_count": 2,
   "metadata": {},
   "outputs": [
    {
     "data": {
      "text/plain": [
       "True"
      ]
     },
     "execution_count": 2,
     "metadata": {},
     "output_type": "execute_result"
    }
   ],
   "source": [
    "# Imports\n",
    "import os \n",
    "from dotenv import load_dotenv\n",
    "from langchain_openai import ChatOpenAI\n",
    "from typing import List\n",
    "from typing_extensions import TypedDict\n",
    "from pydantic import BaseModel, Field\n",
    "\n",
    "load_dotenv()"
   ]
  },
  {
   "cell_type": "code",
   "execution_count": 3,
   "metadata": {},
   "outputs": [],
   "source": [
    "OPENAI_KEY = os.getenv(\"OPENAI_KEY\")\n",
    "TAVILY_API_KEY = os.getenv(\"TAVILY_API_KEY\")"
   ]
  },
  {
   "cell_type": "code",
   "execution_count": 4,
   "metadata": {},
   "outputs": [],
   "source": [
    "llm = ChatOpenAI(model = \"gpt-4o\", temperature = 0)"
   ]
  },
  {
   "cell_type": "code",
   "execution_count": 7,
   "metadata": {},
   "outputs": [],
   "source": [
    "## define states\n",
    "class SubTopic(BaseModel):\n",
    "    title: str = Field(\n",
    "        description= \"title for the subtopic\"\n",
    "    )\n",
    "    content: str = Field(\n",
    "        description=\"topic for the subtopic\"\n",
    "    )\n",
    "\n",
    "class SubTopicList(BaseModel):\n",
    "    subTopics: List[SubTopic] = Field(\n",
    "        description= \"a comprehensive list of subtopics\"\n",
    "    )\n",
    "    \n",
    "class GenerateWritingState(TypedDict):\n",
    "    topic: str\n",
    "    writing_type:str\n",
    "    subtopics: List[SubTopic]\n",
    "    max_subtopics: int\n",
    "    human_feedback: str\n",
    "    template: str\n",
    "    tools: List[str]\n",
    "    writing: str"
   ]
  },
  {
   "cell_type": "code",
   "execution_count": null,
   "metadata": {},
   "outputs": [
    {
     "data": {
      "image/png": "[encoded data removed]",
      "text/plain": [
       "<IPython.core.display.Image object>"
      ]
     },
     "metadata": {},
     "output_type": "display_data"
    }
   ],
   "source": [
    "from IPython.display import Image, display\n",
    "from langgraph.graph import START, END, StateGraph\n",
    "from langgraph.checkpoint.memory import MemorySaver\n",
    "from langchain_core.messages import HumanMessage, SystemMessage, AIMessage\n",
    "\n",
    "generate_subtopics_prompt = \"\"\"\n",
    "You are tasked with creating subtopics for a {writing_type}, follow these instructions carefully:\n",
    "1. Carefully analyse this topic to understand what it is and what is required of it:\n",
    "{topic}\n",
    "2. Examine any editorial feedback that has been optionally provided to guide in the creation of subtopics\n",
    "{human_feedback}\n",
    "3. Dertemine the most interesting sub topics and pick the top {max_subtopics}\n",
    "4. In the content part put an empty string for now\n",
    "\"\"\"\n",
    "def generate_subtopics(state: GenerateWritingState):\n",
    "    \n",
    "    writing_type = state[\"writing_type\"]\n",
    "    topic = state[\"topic\"]\n",
    "    human_feedback = state.get(\"human_feedback\", None)\n",
    "    max_subtopics = state[\"max_subtopics\"]\n",
    "    \n",
    "    formatted_prompt = generate_subtopics_prompt.format(writing_type = writing_type, topic = topic, human_feedback = human_feedback, max_subtopics = max_subtopics)\n",
    "    \n",
    "    structured_llm = llm.with_structured_output(SubTopicList)\n",
    "    \n",
    "    subtopics = structured_llm.invoke([SystemMessage(content=formatted_prompt)] + [HumanMessage(content=\"generate subtopics\")])\n",
    "    \n",
    "    return {\"subtopics\" : subtopics.subTopics}\n",
    "\n",
    "def human_feedback_function(state: GenerateWritingState):\n",
    "    pass\n",
    "\n",
    "def subtopics_confirmation(state: GenerateWritingState):\n",
    "    human_feedback = state.get(\"human_feedback\", None)\n",
    "    \n",
    "    if human_feedback:\n",
    "        print(\"am deciding loop\", human_feedback)\n",
    "        return \"generate_subtopics\"\n",
    "    print(\"am deciding to end\", human_feedback)\n",
    "    return END\n",
    "\n",
    "# create a graph builder\n",
    "builder = StateGraph(GenerateWritingState)\n",
    "\n",
    "# Add a node\n",
    "builder.add_node(generate_subtopics, \"generate_subtopics\")\n",
    "builder.add_node(human_feedback_function, \"human_feedback_function\")\n",
    "\n",
    "# add edges\n",
    "builder.add_edge(START, \"generate_subtopics\")\n",
    "builder.add_edge(\"generate_subtopics\", \"human_feedback_function\")\n",
    "builder.add_conditional_edges(\"human_feedback_function\", subtopics_confirmation, [\"generate_subtopics\", END])\n",
    "\n",
    "# Compile\n",
    "memory = MemorySaver()\n",
    "graph = builder.compile(interrupt_before=['human_feedback_function'],checkpointer=memory)\n",
    "\n",
    "# View\n",
    "display(Image(graph.get_graph(xray=1).draw_mermaid_png()))\n",
    "\n"
   ]
  },
  {
   "cell_type": "code",
   "execution_count": 69,
   "metadata": {},
   "outputs": [
    {
     "data": {
      "text/plain": [
       "{'topic': 'what is Artificial intelligence',\n",
       " 'writing_type': 'Blog',\n",
       " 'subtopics': [SubTopic(title='Introduction to Artificial Intelligence', content=''),\n",
       "  SubTopic(title='History and Evolution of AI', content=''),\n",
       "  SubTopic(title='Types of Artificial Intelligence', content=''),\n",
       "  SubTopic(title='Applications of AI in Various Industries', content=''),\n",
       "  SubTopic(title='Ethical Considerations in AI Development', content='')],\n",
       " 'max_subtopics': 5,\n",
       " 'template': \"\\nTitle: [Enter the blog title here]\\n\\nIntroduction:\\n[Write an engaging introduction that explains what the blog will cover and why it's important.]\\n\\nTable of Contents:\\n1. [What is Topic?]\\n2. [Why is Topic Important?]\\n3. [Key Insights]\\n4. [How to Implement Topic]\\n5. [Challenges and Solutions]\\n6. [Conclusion]\\n\\nBody:\\n1. What is Topic?\\n   [Explain the topic clearly with examples or analogies.]\\n\\n2. Why is Topic Important?\\n   [Discuss the significance of the topic with supporting data or real-world examples.]\\n\\n3. Key Insights:\\n   - [Key Insight 1]\\n   - [Key Insight 2]\\n   - [Key Insight 3]\\n\\n4. How to Implement Topic:\\n   - Step 1: [Explain step 1]\\n   - Step 2: [Explain step 2]\\n   - Step 3: [Explain step 3]\\n\\n5. Challenges and Solutions:\\n   - Challenge 1: [Describe challenge]\\n     - Solution: [Provide solution]\\n   - Challenge 2: [Describe challenge]\\n     - Solution: [Provide solution]\\n\\nConclusion:\\n[Summarize the blog's key points and end with a call-to-action or final thoughts.]\\n\\nReferences/Further Reading:\\n- [Reference 1]\\n- [Reference 2]\\n\"}"
      ]
     },
     "execution_count": 69,
     "metadata": {},
     "output_type": "execute_result"
    }
   ],
   "source": [
    "topic = \"what is Artificial intelligence\"\n",
    "writing_type = \"Blog\"\n",
    "max_subtopics = 5\n",
    "template = \"\"\"\n",
    "Title: [Enter the blog title here]\n",
    "\n",
    "Introduction:\n",
    "[Write an engaging introduction that explains what the blog will cover and why it's important.]\n",
    "\n",
    "Table of Contents:\n",
    "1. [What is Topic?]\n",
    "2. [Why is Topic Important?]\n",
    "3. [Key Insights]\n",
    "4. [How to Implement Topic]\n",
    "5. [Challenges and Solutions]\n",
    "6. [Conclusion]\n",
    "\n",
    "Body:\n",
    "1. What is Topic?\n",
    "   [Explain the topic clearly with examples or analogies.]\n",
    "\n",
    "2. Why is Topic Important?\n",
    "   [Discuss the significance of the topic with supporting data or real-world examples.]\n",
    "\n",
    "3. Key Insights:\n",
    "   - [Key Insight 1]\n",
    "   - [Key Insight 2]\n",
    "   - [Key Insight 3]\n",
    "\n",
    "4. How to Implement Topic:\n",
    "   - Step 1: [Explain step 1]\n",
    "   - Step 2: [Explain step 2]\n",
    "   - Step 3: [Explain step 3]\n",
    "\n",
    "5. Challenges and Solutions:\n",
    "   - Challenge 1: [Describe challenge]\n",
    "     - Solution: [Provide solution]\n",
    "   - Challenge 2: [Describe challenge]\n",
    "     - Solution: [Provide solution]\n",
    "\n",
    "Conclusion:\n",
    "[Summarize the blog's key points and end with a call-to-action or final thoughts.]\n",
    "\n",
    "References/Further Reading:\n",
    "- [Reference 1]\n",
    "- [Reference 2]\n",
    "\"\"\"\n",
    "\n",
    "thread = {\"configurable\": {\"thread_id\": \"1\"}}\n",
    "graph.invoke({\"topic\":topic, \"writing_type\": writing_type, \"max_subtopics\": max_subtopics, \"template\": template }, thread)\n"
   ]
  },
  {
   "cell_type": "code",
   "execution_count": 70,
   "metadata": {},
   "outputs": [
    {
     "data": {
      "text/plain": [
       "{'topic': 'what is Artificial intelligence',\n",
       " 'writing_type': 'Blog',\n",
       " 'subtopics': [SubTopic(title='Introduction to Artificial Intelligence', content=''),\n",
       "  SubTopic(title='History and Evolution of AI', content=''),\n",
       "  SubTopic(title='Types of Artificial Intelligence', content=''),\n",
       "  SubTopic(title='Applications of AI in Various Industries', content=''),\n",
       "  SubTopic(title='Ethical Considerations in AI Development', content='')],\n",
       " 'max_subtopics': 5,\n",
       " 'template': \"\\nTitle: [Enter the blog title here]\\n\\nIntroduction:\\n[Write an engaging introduction that explains what the blog will cover and why it's important.]\\n\\nTable of Contents:\\n1. [What is Topic?]\\n2. [Why is Topic Important?]\\n3. [Key Insights]\\n4. [How to Implement Topic]\\n5. [Challenges and Solutions]\\n6. [Conclusion]\\n\\nBody:\\n1. What is Topic?\\n   [Explain the topic clearly with examples or analogies.]\\n\\n2. Why is Topic Important?\\n   [Discuss the significance of the topic with supporting data or real-world examples.]\\n\\n3. Key Insights:\\n   - [Key Insight 1]\\n   - [Key Insight 2]\\n   - [Key Insight 3]\\n\\n4. How to Implement Topic:\\n   - Step 1: [Explain step 1]\\n   - Step 2: [Explain step 2]\\n   - Step 3: [Explain step 3]\\n\\n5. Challenges and Solutions:\\n   - Challenge 1: [Describe challenge]\\n     - Solution: [Provide solution]\\n   - Challenge 2: [Describe challenge]\\n     - Solution: [Provide solution]\\n\\nConclusion:\\n[Summarize the blog's key points and end with a call-to-action or final thoughts.]\\n\\nReferences/Further Reading:\\n- [Reference 1]\\n- [Reference 2]\\n\"}"
      ]
     },
     "execution_count": 70,
     "metadata": {},
     "output_type": "execute_result"
    }
   ],
   "source": [
    "state = graph.get_state(thread)\n",
    "state.values"
   ]
  },
  {
   "cell_type": "code",
   "execution_count": 71,
   "metadata": {},
   "outputs": [
    {
     "data": {
      "text/plain": [
       "{'configurable': {'thread_id': '1',\n",
       "  'checkpoint_ns': '',\n",
       "  'checkpoint_id': '1efa66ec-3c4f-6a51-8002-9c1b31855186'}}"
      ]
     },
     "execution_count": 71,
     "metadata": {},
     "output_type": "execute_result"
    }
   ],
   "source": [
    "graph.update_state(thread, {\"human_feedback\":\"the subtopics are not related to the suplied topic\"})\n",
    "# graph.get_state(thread).values"
   ]
  },
  {
   "cell_type": "code",
   "execution_count": 72,
   "metadata": {},
   "outputs": [
    {
     "data": {
      "text/plain": [
       "('human_feedback_function',)"
      ]
     },
     "execution_count": 72,
     "metadata": {},
     "output_type": "execute_result"
    }
   ],
   "source": [
    "state = graph.get_state(thread)\n",
    "state.next"
   ]
  },
  {
   "cell_type": "code",
   "execution_count": 73,
   "metadata": {},
   "outputs": [
    {
     "name": "stdout",
     "output_type": "stream",
     "text": [
      "am deciding to end None\n"
     ]
    },
    {
     "data": {
      "text/plain": [
       "{'topic': 'what is Artificial intelligence',\n",
       " 'writing_type': 'Blog',\n",
       " 'subtopics': [SubTopic(title='Introduction to Artificial Intelligence', content=''),\n",
       "  SubTopic(title='History and Evolution of AI', content=''),\n",
       "  SubTopic(title='Types of Artificial Intelligence', content=''),\n",
       "  SubTopic(title='Applications of AI in Various Industries', content=''),\n",
       "  SubTopic(title='Ethical Considerations in AI Development', content='')],\n",
       " 'max_subtopics': 5,\n",
       " 'human_feedback': 'the subtopics are not related to the suplied topic',\n",
       " 'template': \"\\nTitle: [Enter the blog title here]\\n\\nIntroduction:\\n[Write an engaging introduction that explains what the blog will cover and why it's important.]\\n\\nTable of Contents:\\n1. [What is Topic?]\\n2. [Why is Topic Important?]\\n3. [Key Insights]\\n4. [How to Implement Topic]\\n5. [Challenges and Solutions]\\n6. [Conclusion]\\n\\nBody:\\n1. What is Topic?\\n   [Explain the topic clearly with examples or analogies.]\\n\\n2. Why is Topic Important?\\n   [Discuss the significance of the topic with supporting data or real-world examples.]\\n\\n3. Key Insights:\\n   - [Key Insight 1]\\n   - [Key Insight 2]\\n   - [Key Insight 3]\\n\\n4. How to Implement Topic:\\n   - Step 1: [Explain step 1]\\n   - Step 2: [Explain step 2]\\n   - Step 3: [Explain step 3]\\n\\n5. Challenges and Solutions:\\n   - Challenge 1: [Describe challenge]\\n     - Solution: [Provide solution]\\n   - Challenge 2: [Describe challenge]\\n     - Solution: [Provide solution]\\n\\nConclusion:\\n[Summarize the blog's key points and end with a call-to-action or final thoughts.]\\n\\nReferences/Further Reading:\\n- [Reference 1]\\n- [Reference 2]\\n\"}"
      ]
     },
     "execution_count": 73,
     "metadata": {},
     "output_type": "execute_result"
    }
   ],
   "source": [
    "graph.invoke(None,thread)"
   ]
  },
  {
   "cell_type": "code",
   "execution_count": 38,
   "metadata": {},
   "outputs": [
    {
     "data": {
      "text/plain": [
       "{'configurable': {'thread_id': '1',\n",
       "  'checkpoint_ns': '',\n",
       "  'checkpoint_id': '1efa66c2-9aea-6ee2-8009-44f965bcb1d5'}}"
      ]
     },
     "execution_count": 38,
     "metadata": {},
     "output_type": "execute_result"
    }
   ],
   "source": [
    "graph.update_state(thread,{\"human_feedback\":None}, as_node=\"human_feedback_function\")"
   ]
  },
  {
   "cell_type": "code",
   "execution_count": 39,
   "metadata": {},
   "outputs": [
    {
     "data": {
      "text/plain": [
       "{'topic': 'what is Artificial intelligence',\n",
       " 'writing_type': 'Blog',\n",
       " 'subtopics': [SubTopic(title='Introduction to the Basics of the Topic', content=''),\n",
       "  SubTopic(title='Historical Background and Evolution', content=''),\n",
       "  SubTopic(title='Key Concepts and Terminologies', content=''),\n",
       "  SubTopic(title='Current Trends and Developments', content=''),\n",
       "  SubTopic(title='Challenges and Controversies', content=''),\n",
       "  SubTopic(title='Future Prospects and Innovations', content='')],\n",
       " 'max_subtopics': 5,\n",
       " 'template': \"\\nTitle: [Enter the blog title here]\\n\\nIntroduction:\\n[Write an engaging introduction that explains what the blog will cover and why it's important.]\\n\\nTable of Contents:\\n1. [What is Topic?]\\n2. [Why is Topic Important?]\\n3. [Key Insights]\\n4. [How to Implement Topic]\\n5. [Challenges and Solutions]\\n6. [Conclusion]\\n\\nBody:\\n1. What is Topic?\\n   [Explain the topic clearly with examples or analogies.]\\n\\n2. Why is Topic Important?\\n   [Discuss the significance of the topic with supporting data or real-world examples.]\\n\\n3. Key Insights:\\n   - [Key Insight 1]\\n   - [Key Insight 2]\\n   - [Key Insight 3]\\n\\n4. How to Implement Topic:\\n   - Step 1: [Explain step 1]\\n   - Step 2: [Explain step 2]\\n   - Step 3: [Explain step 3]\\n\\n5. Challenges and Solutions:\\n   - Challenge 1: [Describe challenge]\\n     - Solution: [Provide solution]\\n   - Challenge 2: [Describe challenge]\\n     - Solution: [Provide solution]\\n\\nConclusion:\\n[Summarize the blog's key points and end with a call-to-action or final thoughts.]\\n\\nReferences/Further Reading:\\n- [Reference 1]\\n- [Reference 2]\\n\"}"
      ]
     },
     "execution_count": 39,
     "metadata": {},
     "output_type": "execute_result"
    }
   ],
   "source": [
    "graph.invoke(None, thread)"
   ]
  },
  {
   "cell_type": "code",
   "execution_count": 40,
   "metadata": {},
   "outputs": [
    {
     "data": {
      "text/plain": [
       "('human_feedback_function',)"
      ]
     },
     "execution_count": 40,
     "metadata": {},
     "output_type": "execute_result"
    }
   ],
   "source": [
    "state = graph.get_state(thread)\n",
    "state.next"
   ]
  },
  {
   "cell_type": "code",
   "execution_count": null,
   "metadata": {},
   "outputs": [],
   "source": []
  }
 ],
 "metadata": {
  "kernelspec": {
   "display_name": "my_env",
   "language": "python",
   "name": "python3"
  },
  "language_info": {
   "codemirror_mode": {
    "name": "ipython",
    "version": 3
   },
   "file_extension": ".py",
   "mimetype": "text/x-python",
   "name": "python",
   "nbconvert_exporter": "python",
   "pygments_lexer": "ipython3",
   "version": "3.11.5"
  }
 },
 "nbformat": 4,
 "nbformat_minor": 2
}
