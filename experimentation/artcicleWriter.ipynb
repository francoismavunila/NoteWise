{
 "cells": [
  {
   "cell_type": "markdown",
   "metadata": {},
   "source": [
    "## Writing Assistant - NoteWise\n",
    "\n",
    "### Description\n",
    "NoteWise is a writing assistant, with the following functionalities\n",
    "\n",
    "`Topic Selection`\n",
    "* The use enter the topic they want to write about\n",
    "\n",
    "`Template`\n",
    "* The user can select the template they want to use for their writing\n",
    "\n",
    "`subtopic Generation`\n",
    "* The Agent generates subtopics based on the topics, reserach (websearch)\n",
    "* The user can select the subtopics they want to write about \n",
    "\n",
    "`Research Tools`\n",
    "* Research tools include wikipedia, web search and user input(content from the user)\n",
    "* The user can select the research tool they want to use for their writing\n",
    "\n",
    "`Document Writing`\n",
    "* The Agent generates the writing based on the research tools and the user input\n",
    "* The user can confirm the writing or correct it \n"
   ]
  },
  {
   "cell_type": "code",
   "execution_count": 1,
   "metadata": {},
   "outputs": [
    {
     "data": {
      "text/plain": [
       "True"
      ]
     },
     "execution_count": 1,
     "metadata": {},
     "output_type": "execute_result"
    }
   ],
   "source": [
    "# Imports\n",
    "import os \n",
    "from dotenv import load_dotenv\n",
    "from langchain_openai import ChatOpenAI\n",
    "from typing import List\n",
    "from typing_extensions import TypedDict\n",
    "from pydantic import BaseModel, Field\n",
    "\n",
    "load_dotenv()"
   ]
  },
  {
   "cell_type": "code",
   "execution_count": 2,
   "metadata": {},
   "outputs": [],
   "source": [
    "OPENAI_KEY = os.getenv(\"OPENAI_KEY\")\n",
    "TAVILY_API_KEY = os.getenv(\"TAVILY_API_KEY\")"
   ]
  },
  {
   "cell_type": "code",
   "execution_count": 3,
   "metadata": {},
   "outputs": [],
   "source": [
    "llm = ChatOpenAI(model = \"gpt-4o\", temperature = 0)"
   ]
  },
  {
   "cell_type": "code",
   "execution_count": 4,
   "metadata": {},
   "outputs": [],
   "source": [
    "## define states\n",
    "class SubTopic(BaseModel):\n",
    "    title: str = Field(\n",
    "        description= \"title for the subtopic\"\n",
    "    )\n",
    "    content: str = Field(\n",
    "        description=\"topic for the subtopic\"\n",
    "    )\n",
    "\n",
    "class SubTopicList(BaseModel):\n",
    "    subTopics: List[SubTopic] = Field(\n",
    "        description= \"a comprehensive list of subtopics\"\n",
    "    )\n",
    "    \n",
    "class GenerateWritingState(TypedDict):\n",
    "    topic: str\n",
    "    writing_type:str\n",
    "    subtopics: List[SubTopic]\n",
    "    max_subtopics: int\n",
    "    human_feedback: str\n",
    "    template: str\n",
    "    tools: List[str]\n",
    "    writing: str"
   ]
  },
  {
   "cell_type": "code",
   "execution_count": 5,
   "metadata": {},
   "outputs": [
    {
     "data": {
      "image/png": "[encoded data removed]",
      "text/plain": [
       "<IPython.core.display.Image object>"
      ]
     },
     "metadata": {},
     "output_type": "display_data"
    }
   ],
   "source": [
    "from IPython.display import Image, display\n",
    "from langgraph.graph import START, END, StateGraph\n",
    "from langgraph.checkpoint.memory import MemorySaver\n",
    "from langchain_core.messages import HumanMessage, SystemMessage, AIMessage\n",
    "\n",
    "generate_subtopics_prompt = \"\"\"\n",
    "You are tasked with creating subtopics for a {writing_type}, follow these instructions carefully:\n",
    "1. Carefully analyse this topic to understand what it is and what is required of it:\n",
    "{topic}\n",
    "2. Examine any editorial feedback that has been optionally provided to guide in the creation of subtopics\n",
    "{human_feedback}\n",
    "3. Dertemine the most interesting sub topics and pick the top {max_subtopics}\n",
    "4. In the content part put an empty string for now\n",
    "\"\"\"\n",
    "def generate_subtopics(state: GenerateWritingState):\n",
    "    \n",
    "    writing_type = state[\"writing_type\"]\n",
    "    topic = state[\"topic\"]\n",
    "    human_feedback = state.get(\"human_feedback\", None)\n",
    "    max_subtopics = state[\"max_subtopics\"]\n",
    "    \n",
    "    formatted_prompt = generate_subtopics_prompt.format(writing_type = writing_type, topic = topic, human_feedback = human_feedback, max_subtopics = max_subtopics)\n",
    "    \n",
    "    structured_llm = llm.with_structured_output(SubTopicList)\n",
    "    \n",
    "    subtopics = structured_llm.invoke([SystemMessage(content=formatted_prompt)] + [HumanMessage(content=\"generate subtopics\")])\n",
    "    \n",
    "    return {\"subtopics\" : subtopics.subTopics}\n",
    "\n",
    "def human_feedback_function(state: GenerateWritingState):\n",
    "    pass\n",
    "\n",
    "def subtopics_confirmation(state: GenerateWritingState):\n",
    "    human_feedback = state.get(\"human_feedback\", None)\n",
    "    \n",
    "    if human_feedback:\n",
    "        print(\"am deciding loop\", human_feedback)\n",
    "        return \"generate_subtopics\"\n",
    "    print(\"am deciding to end\", human_feedback)\n",
    "    return END\n",
    "\n",
    "# create a graph builder\n",
    "builder = StateGraph(GenerateWritingState)\n",
    "\n",
    "# Add a node\n",
    "builder.add_node(generate_subtopics, \"generate_subtopics\")\n",
    "builder.add_node(human_feedback_function, \"human_feedback_function\")\n",
    "\n",
    "# add edges\n",
    "builder.add_edge(START, \"generate_subtopics\")\n",
    "builder.add_edge(\"generate_subtopics\", \"human_feedback_function\")\n",
    "builder.add_conditional_edges(\"human_feedback_function\", subtopics_confirmation, [\"generate_subtopics\", END])\n",
    "\n",
    "# Compile\n",
    "memory = MemorySaver()\n",
    "graph = builder.compile(interrupt_before=['human_feedback_function'],checkpointer=memory)\n",
    "\n",
    "# View\n",
    "display(Image(graph.get_graph(xray=1).draw_mermaid_png()))\n",
    "\n"
   ]
  },
  {
   "cell_type": "code",
   "execution_count": 6,
   "metadata": {},
   "outputs": [
    {
     "data": {
      "text/plain": [
       "{'topic': 'what is Artificial intelligence',\n",
       " 'writing_type': 'Blog',\n",
       " 'subtopics': [SubTopic(title='Introduction to Artificial Intelligence', content=''),\n",
       "  SubTopic(title='History and Evolution of AI', content=''),\n",
       "  SubTopic(title='Types of Artificial Intelligence', content=''),\n",
       "  SubTopic(title='Applications of AI in Various Industries', content=''),\n",
       "  SubTopic(title='Ethical Considerations in AI Development', content='')],\n",
       " 'max_subtopics': 5,\n",
       " 'template': \"\\nTitle: [Enter the blog title here]\\n\\nIntroduction:\\n[Write an engaging introduction that explains what the blog will cover and why it's important.]\\n\\nTable of Contents:\\n1. [What is Topic?]\\n2. [Why is Topic Important?]\\n3. [Key Insights]\\n4. [How to Implement Topic]\\n5. [Challenges and Solutions]\\n6. [Conclusion]\\n\\nBody:\\n1. What is Topic?\\n   [Explain the topic clearly with examples or analogies.]\\n\\n2. Why is Topic Important?\\n   [Discuss the significance of the topic with supporting data or real-world examples.]\\n\\n3. Key Insights:\\n   - [Key Insight 1]\\n   - [Key Insight 2]\\n   - [Key Insight 3]\\n\\n4. How to Implement Topic:\\n   - Step 1: [Explain step 1]\\n   - Step 2: [Explain step 2]\\n   - Step 3: [Explain step 3]\\n\\n5. Challenges and Solutions:\\n   - Challenge 1: [Describe challenge]\\n     - Solution: [Provide solution]\\n   - Challenge 2: [Describe challenge]\\n     - Solution: [Provide solution]\\n\\nConclusion:\\n[Summarize the blog's key points and end with a call-to-action or final thoughts.]\\n\\nReferences/Further Reading:\\n- [Reference 1]\\n- [Reference 2]\\n\"}"
      ]
     },
     "execution_count": 6,
     "metadata": {},
     "output_type": "execute_result"
    }
   ],
   "source": [
    "topic = \"what is Artificial intelligence\"\n",
    "writing_type = \"Blog\"\n",
    "max_subtopics = 5\n",
    "template = \"\"\"\n",
    "Title: [Enter the blog title here]\n",
    "\n",
    "Introduction:\n",
    "[Write an engaging introduction that explains what the blog will cover and why it's important.]\n",
    "\n",
    "Table of Contents:\n",
    "1. [What is Topic?]\n",
    "2. [Why is Topic Important?]\n",
    "3. [Key Insights]\n",
    "4. [How to Implement Topic]\n",
    "5. [Challenges and Solutions]\n",
    "6. [Conclusion]\n",
    "\n",
    "Body:\n",
    "1. What is Topic?\n",
    "   [Explain the topic clearly with examples or analogies.]\n",
    "\n",
    "2. Why is Topic Important?\n",
    "   [Discuss the significance of the topic with supporting data or real-world examples.]\n",
    "\n",
    "3. Key Insights:\n",
    "   - [Key Insight 1]\n",
    "   - [Key Insight 2]\n",
    "   - [Key Insight 3]\n",
    "\n",
    "4. How to Implement Topic:\n",
    "   - Step 1: [Explain step 1]\n",
    "   - Step 2: [Explain step 2]\n",
    "   - Step 3: [Explain step 3]\n",
    "\n",
    "5. Challenges and Solutions:\n",
    "   - Challenge 1: [Describe challenge]\n",
    "     - Solution: [Provide solution]\n",
    "   - Challenge 2: [Describe challenge]\n",
    "     - Solution: [Provide solution]\n",
    "\n",
    "Conclusion:\n",
    "[Summarize the blog's key points and end with a call-to-action or final thoughts.]\n",
    "\n",
    "References/Further Reading:\n",
    "- [Reference 1]\n",
    "- [Reference 2]\n",
    "\"\"\"\n",
    "\n",
    "thread = {\"configurable\": {\"thread_id\": \"1\"}}\n",
    "graph.invoke({\"topic\":topic, \"writing_type\": writing_type, \"max_subtopics\": max_subtopics, \"template\": template }, thread)\n"
   ]
  },
  {
   "cell_type": "code",
   "execution_count": 7,
   "metadata": {},
   "outputs": [
    {
     "data": {
      "text/plain": [
       "{'topic': 'what is Artificial intelligence',\n",
       " 'writing_type': 'Blog',\n",
       " 'subtopics': [SubTopic(title='Introduction to Artificial Intelligence', content=''),\n",
       "  SubTopic(title='History and Evolution of AI', content=''),\n",
       "  SubTopic(title='Types of Artificial Intelligence', content=''),\n",
       "  SubTopic(title='Applications of AI in Various Industries', content=''),\n",
       "  SubTopic(title='Ethical Considerations in AI Development', content='')],\n",
       " 'max_subtopics': 5,\n",
       " 'template': \"\\nTitle: [Enter the blog title here]\\n\\nIntroduction:\\n[Write an engaging introduction that explains what the blog will cover and why it's important.]\\n\\nTable of Contents:\\n1. [What is Topic?]\\n2. [Why is Topic Important?]\\n3. [Key Insights]\\n4. [How to Implement Topic]\\n5. [Challenges and Solutions]\\n6. [Conclusion]\\n\\nBody:\\n1. What is Topic?\\n   [Explain the topic clearly with examples or analogies.]\\n\\n2. Why is Topic Important?\\n   [Discuss the significance of the topic with supporting data or real-world examples.]\\n\\n3. Key Insights:\\n   - [Key Insight 1]\\n   - [Key Insight 2]\\n   - [Key Insight 3]\\n\\n4. How to Implement Topic:\\n   - Step 1: [Explain step 1]\\n   - Step 2: [Explain step 2]\\n   - Step 3: [Explain step 3]\\n\\n5. Challenges and Solutions:\\n   - Challenge 1: [Describe challenge]\\n     - Solution: [Provide solution]\\n   - Challenge 2: [Describe challenge]\\n     - Solution: [Provide solution]\\n\\nConclusion:\\n[Summarize the blog's key points and end with a call-to-action or final thoughts.]\\n\\nReferences/Further Reading:\\n- [Reference 1]\\n- [Reference 2]\\n\"}"
      ]
     },
     "execution_count": 7,
     "metadata": {},
     "output_type": "execute_result"
    }
   ],
   "source": [
    "state = graph.get_state(thread)\n",
    "state.values"
   ]
  },
  {
   "cell_type": "code",
   "execution_count": 8,
   "metadata": {},
   "outputs": [
    {
     "data": {
      "text/plain": [
       "{'configurable': {'thread_id': '1',\n",
       "  'checkpoint_ns': '',\n",
       "  'checkpoint_id': '1efbfeef-1a85-64dc-8002-93803ae1eb78'}}"
      ]
     },
     "execution_count": 8,
     "metadata": {},
     "output_type": "execute_result"
    }
   ],
   "source": [
    "graph.update_state(thread, {\"human_feedback\":\"Dont add the history and all that, am interested in topics like the difference between ai and ml, what is gen ai\"})\n",
    "# graph.get_state(thread).values"
   ]
  },
  {
   "cell_type": "code",
   "execution_count": 9,
   "metadata": {},
   "outputs": [
    {
     "data": {
      "text/plain": [
       "('human_feedback_function',)"
      ]
     },
     "execution_count": 9,
     "metadata": {},
     "output_type": "execute_result"
    }
   ],
   "source": [
    "state = graph.get_state(thread)\n",
    "state.next"
   ]
  },
  {
   "cell_type": "code",
   "execution_count": 10,
   "metadata": {},
   "outputs": [
    {
     "name": "stdout",
     "output_type": "stream",
     "text": [
      "am deciding loop Dont add the history and all that, am interested in topics like the difference between ai and ml, what is gen ai\n"
     ]
    },
    {
     "data": {
      "text/plain": [
       "{'topic': 'what is Artificial intelligence',\n",
       " 'writing_type': 'Blog',\n",
       " 'subtopics': [SubTopic(title='Understanding Artificial Intelligence', content=''),\n",
       "  SubTopic(title='The Difference Between AI and Machine Learning', content=''),\n",
       "  SubTopic(title='What is General AI?', content=''),\n",
       "  SubTopic(title='Applications of Artificial Intelligence in Various Industries', content=''),\n",
       "  SubTopic(title='Ethical Considerations in Artificial Intelligence', content='')],\n",
       " 'max_subtopics': 5,\n",
       " 'human_feedback': 'Dont add the history and all that, am interested in topics like the difference between ai and ml, what is gen ai',\n",
       " 'template': \"\\nTitle: [Enter the blog title here]\\n\\nIntroduction:\\n[Write an engaging introduction that explains what the blog will cover and why it's important.]\\n\\nTable of Contents:\\n1. [What is Topic?]\\n2. [Why is Topic Important?]\\n3. [Key Insights]\\n4. [How to Implement Topic]\\n5. [Challenges and Solutions]\\n6. [Conclusion]\\n\\nBody:\\n1. What is Topic?\\n   [Explain the topic clearly with examples or analogies.]\\n\\n2. Why is Topic Important?\\n   [Discuss the significance of the topic with supporting data or real-world examples.]\\n\\n3. Key Insights:\\n   - [Key Insight 1]\\n   - [Key Insight 2]\\n   - [Key Insight 3]\\n\\n4. How to Implement Topic:\\n   - Step 1: [Explain step 1]\\n   - Step 2: [Explain step 2]\\n   - Step 3: [Explain step 3]\\n\\n5. Challenges and Solutions:\\n   - Challenge 1: [Describe challenge]\\n     - Solution: [Provide solution]\\n   - Challenge 2: [Describe challenge]\\n     - Solution: [Provide solution]\\n\\nConclusion:\\n[Summarize the blog's key points and end with a call-to-action or final thoughts.]\\n\\nReferences/Further Reading:\\n- [Reference 1]\\n- [Reference 2]\\n\"}"
      ]
     },
     "execution_count": 10,
     "metadata": {},
     "output_type": "execute_result"
    }
   ],
   "source": [
    "graph.invoke(None,thread)"
   ]
  },
  {
   "cell_type": "code",
   "execution_count": 11,
   "metadata": {},
   "outputs": [
    {
     "name": "stdout",
     "output_type": "stream",
     "text": [
      "am deciding to end None\n"
     ]
    },
    {
     "data": {
      "text/plain": [
       "{'configurable': {'thread_id': '1',\n",
       "  'checkpoint_ns': '',\n",
       "  'checkpoint_id': '1efbfeef-28f6-6111-8005-4c58a4f795b6'}}"
      ]
     },
     "execution_count": 11,
     "metadata": {},
     "output_type": "execute_result"
    }
   ],
   "source": [
    "graph.update_state(thread, {\"human_feedback\":None}, as_node= \"human_feedback_function\")"
   ]
  },
  {
   "cell_type": "code",
   "execution_count": 12,
   "metadata": {},
   "outputs": [
    {
     "data": {
      "text/plain": [
       "'Understanding Artificial Intelligence'"
      ]
     },
     "execution_count": 12,
     "metadata": {},
     "output_type": "execute_result"
    }
   ],
   "source": [
    "# the graph is now at the end, lets see whats next\n",
    "state = graph.get_state(thread)\n",
    "state.values[\"subtopics\"][0].title"
   ]
  },
  {
   "cell_type": "markdown",
   "metadata": {},
   "source": [
    "## Generating the actual writing and human in loop for confirming the article writing\n",
    "- sofar we have been able to generate the subtopics and get human feeback on these topics, now its time to generate the writing and allow the user to confirm"
   ]
  },
  {
   "cell_type": "code",
   "execution_count": 17,
   "metadata": {},
   "outputs": [
    {
     "data": {
      "image/png": "[encoded data removed]",
      "text/plain": [
       "<IPython.core.display.Image object>"
      ]
     },
     "metadata": {},
     "output_type": "display_data"
    }
   ],
   "source": [
    "from IPython.display import Image, display\n",
    "from langgraph.graph import START, END, StateGraph\n",
    "from langgraph.checkpoint.memory import MemorySaver\n",
    "from langchain_core.messages import HumanMessage, SystemMessage, AIMessage\n",
    "\n",
    "generate_subtopics_prompt = \"\"\"\n",
    "You are tasked with creating subtopics for a {writing_type}, follow these instructions carefully:\n",
    "1. Carefully analyse this topic to understand what it is and what is required of it:\n",
    "{topic}\n",
    "2. Examine any editorial feedback that has been optionally provided to guide in the creation of subtopics\n",
    "{human_feedback}\n",
    "3. Dertemine the most interesting sub topics and pick the top {max_subtopics}\n",
    "4. In the content part put an empty string for now\n",
    "\"\"\"\n",
    "def generate_subtopics(state: GenerateWritingState):\n",
    "    \n",
    "    writing_type = state[\"writing_type\"]\n",
    "    topic = state[\"topic\"]\n",
    "    human_feedback = state.get(\"human_feedback\", None)\n",
    "    max_subtopics = state[\"max_subtopics\"]\n",
    "    \n",
    "    formatted_prompt = generate_subtopics_prompt.format(writing_type = writing_type, topic = topic, human_feedback = human_feedback, max_subtopics = max_subtopics)\n",
    "    \n",
    "    structured_llm = llm.with_structured_output(SubTopicList)\n",
    "    \n",
    "    subtopics = structured_llm.invoke([SystemMessage(content=formatted_prompt)] + [HumanMessage(content=\"generate subtopics\")])\n",
    "    print(\"I have generated these topics\", subtopics)\n",
    "    return {\"subtopics\" : subtopics.subTopics}\n",
    "\n",
    "def human_feedback_function(state: GenerateWritingState):\n",
    "    pass\n",
    "\n",
    "def human_feedback_writing(state: GenerateWritingState):\n",
    "    pass\n",
    "\n",
    "def subtopics_confirmation(state: GenerateWritingState):\n",
    "    human_feedback = state.get(\"human_feedback\", None)\n",
    "    \n",
    "    if human_feedback:\n",
    "        print(\"am deciding loop\", human_feedback)\n",
    "        return \"generate_subtopics\"\n",
    "    print(\"am deciding to end\", human_feedback)\n",
    "    return \"generate_writing\"\n",
    "\n",
    "writing_prompt = \"\"\"\n",
    "You are an expert in writing a {writing_type}.\n",
    "You are tasked with creating a {writing_type} with these subtopics {subtopics} under this topic {topic}.\n",
    "1. Analyse each subtopic and generate content under the subtopic\n",
    "2. your output should stick to this template example {template}\n",
    "\"\"\"\n",
    "def generate_writing(state: GenerateWritingState):\n",
    "    print(\"I have started writing\")\n",
    "    \"\"\"\n",
    "    Generate writing based on the given state.\n",
    "    \n",
    "    Args:\n",
    "    state (GenerateWritingState): The state of the writing generation process.\n",
    "    \n",
    "    Return:\n",
    "    writing: The generated writing update to the state.\n",
    "    \"\"\"\n",
    "    writing_type = state[\"writing_type\"]\n",
    "    subtopics = state[\"subtopics\"]\n",
    "    template = state[\"template\"]\n",
    "    topic = state[\"topic\"]\n",
    "    formatted_string = f\"'subtopics': [{', '.join([f'SubTopic(title={repr(subtopic.title)}, content={repr(subtopic.content)})' for subtopic in subtopics])}]\"\n",
    "    print(\"formatted string\", formatted_string)\n",
    "    print(\"before formatted writing\")\n",
    "    \n",
    "    formatted_writing_prompt = writing_prompt.format(writing_type = writing_type, subtopics = formatted_string, template= template, topic = topic)\n",
    "    print(\"formatted_writing_prompt\", formatted_writing_prompt)\n",
    "    response = llm.invoke([SystemMessage(content=formatted_writing_prompt)]+[HumanMessage(content=\"generate writing\")])\n",
    "    print(\"after calling the llm\")\n",
    "    \n",
    "    print(response)\n",
    "    return {\"writing\": response.content}\n",
    "def writing_confirm(state: GenerateWritingState):\n",
    "    writing_confirm = state.get(\"writing_confirm\", None)\n",
    "    if writing_confirm:\n",
    "        return \"generate_writing\"\n",
    "    return END\n",
    "\n",
    "# create a graph builder\n",
    "builder = StateGraph(GenerateWritingState)\n",
    "\n",
    "# Add a node\n",
    "builder.add_node(generate_subtopics, \"generate_subtopics\")\n",
    "builder.add_node(human_feedback_function, \"human_feedback_function\")\n",
    "builder.add_node(generate_writing, \"generate_writing\")\n",
    "builder.add_node(human_feedback_writing, \"human_feedback_writing\")\n",
    "\n",
    "# add edges\n",
    "builder.add_edge(START, \"generate_subtopics\")\n",
    "builder.add_edge(\"generate_subtopics\", \"human_feedback_function\")\n",
    "builder.add_conditional_edges(\"human_feedback_function\", subtopics_confirmation, [\"generate_subtopics\", \"generate_writing\"])\n",
    "builder.add_edge(\"generate_writing\", \"human_feedback_writing\")\n",
    "builder.add_conditional_edges(\"human_feedback_writing\", writing_confirm, [\"generate_writing\", END])\n",
    "\n",
    "\n",
    "# Compile\n",
    "memory = MemorySaver()\n",
    "graph_2 = builder.compile(interrupt_before=['human_feedback_function', 'human_feedback_writing'],checkpointer=memory)\n",
    "\n",
    "# View\n",
    "display(Image(graph_2.get_graph(xray=1).draw_mermaid_png()))\n",
    "\n",
    "\n",
    "\n",
    "    "
   ]
  },
  {
   "cell_type": "code",
   "execution_count": 46,
   "metadata": {},
   "outputs": [
    {
     "name": "stdout",
     "output_type": "stream",
     "text": [
      "I have generated these topics subTopics=[SubTopic(title='Introduction to Artificial Intelligence', content=''), SubTopic(title='History and Evolution of AI', content=''), SubTopic(title='Applications of Artificial Intelligence in Various Industries', content='')]\n"
     ]
    },
    {
     "data": {
      "text/plain": [
       "{'topic': 'what is Artificial intelligence',\n",
       " 'writing_type': 'Blog',\n",
       " 'subtopics': [SubTopic(title='Introduction to Artificial Intelligence', content=''),\n",
       "  SubTopic(title='History and Evolution of AI', content=''),\n",
       "  SubTopic(title='Applications of Artificial Intelligence in Various Industries', content='')],\n",
       " 'max_subtopics': 3,\n",
       " 'template': '\\nBlog Title\\n\\nIntroduction\\n    - Brief overview of the topic\\n    - Hook to engage the reader\\n\\nSubtopic 1: Background/Context\\n    - Explanation of key terms or concepts\\n    - Importance or relevance of the topic\\n\\nSubtopic 2: Main Discussion/Analysis\\n    - Detailed exploration of the topic\\n    - Supporting arguments or evidence\\n    - Examples or case studies\\n\\nSubtopic 3: Challenges or Considerations\\n    - Possible issues or complexities\\n    - Contrasting perspectives (if applicable)\\n\\nSubtopic 4: Solutions/Insights\\n    - Proposed solutions or strategies\\n    - Key takeaways or lessons\\n\\nConclusion\\n    - Summary of main points\\n    - Call to action or closing thoughts\\n\\nOptional: References/Further Reading\\n    - Links or citations for deeper exploration\\n'}"
      ]
     },
     "execution_count": 46,
     "metadata": {},
     "output_type": "execute_result"
    }
   ],
   "source": [
    "topic = \"what is Artificial intelligence\"\n",
    "writing_type = \"Blog\"\n",
    "max_subtopics = 3\n",
    "template = \"\"\"\n",
    "Blog Title\n",
    "\n",
    "Introduction\n",
    "    - Brief overview of the topic\n",
    "    - Hook to engage the reader\n",
    "\n",
    "Subtopic 1: Background/Context\n",
    "    - Explanation of key terms or concepts\n",
    "    - Importance or relevance of the topic\n",
    "\n",
    "Subtopic 2: Main Discussion/Analysis\n",
    "    - Detailed exploration of the topic\n",
    "    - Supporting arguments or evidence\n",
    "    - Examples or case studies\n",
    "\n",
    "Subtopic 3: Challenges or Considerations\n",
    "    - Possible issues or complexities\n",
    "    - Contrasting perspectives (if applicable)\n",
    "\n",
    "Subtopic 4: Solutions/Insights\n",
    "    - Proposed solutions or strategies\n",
    "    - Key takeaways or lessons\n",
    "\n",
    "Conclusion\n",
    "    - Summary of main points\n",
    "    - Call to action or closing thoughts\n",
    "\n",
    "Optional: References/Further Reading\n",
    "    - Links or citations for deeper exploration\n",
    "\"\"\"\n",
    "\n",
    "thread_2 = {\"configurable\": {\"thread_id\": \"2\"}}\n",
    "graph_2.invoke({\"topic\":topic, \"writing_type\": writing_type, \"max_subtopics\": max_subtopics, \"template\": template }, thread_2)\n"
   ]
  },
  {
   "cell_type": "code",
   "execution_count": 47,
   "metadata": {},
   "outputs": [
    {
     "name": "stdout",
     "output_type": "stream",
     "text": [
      "am deciding loop dont talk about the history, talk about the types of of AI and gen AI\n"
     ]
    },
    {
     "data": {
      "text/plain": [
       "{'configurable': {'thread_id': '2',\n",
       "  'checkpoint_ns': '',\n",
       "  'checkpoint_id': '1efa6d44-32a8-64ad-8002-ab886d2c84bc'}}"
      ]
     },
     "execution_count": 47,
     "metadata": {},
     "output_type": "execute_result"
    }
   ],
   "source": [
    "graph_2.update_state(thread_2,{\"human_feedback\": \"dont talk about the history, talk about the types of of AI and gen AI\"}, as_node=\"human_feedback_function\")"
   ]
  },
  {
   "cell_type": "code",
   "execution_count": 48,
   "metadata": {},
   "outputs": [
    {
     "data": {
      "text/plain": [
       "{'topic': 'what is Artificial intelligence',\n",
       " 'writing_type': 'Blog',\n",
       " 'subtopics': [SubTopic(title='Introduction to Artificial Intelligence', content=''),\n",
       "  SubTopic(title='History and Evolution of AI', content=''),\n",
       "  SubTopic(title='Applications of Artificial Intelligence in Various Industries', content='')],\n",
       " 'max_subtopics': 3,\n",
       " 'human_feedback': 'dont talk about the history, talk about the types of of AI and gen AI',\n",
       " 'template': '\\nBlog Title\\n\\nIntroduction\\n    - Brief overview of the topic\\n    - Hook to engage the reader\\n\\nSubtopic 1: Background/Context\\n    - Explanation of key terms or concepts\\n    - Importance or relevance of the topic\\n\\nSubtopic 2: Main Discussion/Analysis\\n    - Detailed exploration of the topic\\n    - Supporting arguments or evidence\\n    - Examples or case studies\\n\\nSubtopic 3: Challenges or Considerations\\n    - Possible issues or complexities\\n    - Contrasting perspectives (if applicable)\\n\\nSubtopic 4: Solutions/Insights\\n    - Proposed solutions or strategies\\n    - Key takeaways or lessons\\n\\nConclusion\\n    - Summary of main points\\n    - Call to action or closing thoughts\\n\\nOptional: References/Further Reading\\n    - Links or citations for deeper exploration\\n'}"
      ]
     },
     "execution_count": 48,
     "metadata": {},
     "output_type": "execute_result"
    }
   ],
   "source": [
    "graph_2.get_state(thread_2).values"
   ]
  },
  {
   "cell_type": "code",
   "execution_count": 49,
   "metadata": {},
   "outputs": [
    {
     "name": "stdout",
     "output_type": "stream",
     "text": [
      "I have generated these topics subTopics=[SubTopic(title='Understanding Narrow AI', content=''), SubTopic(title='Exploring General AI', content=''), SubTopic(title='The Rise of Generative AI', content='')]\n"
     ]
    },
    {
     "data": {
      "text/plain": [
       "{'topic': 'what is Artificial intelligence',\n",
       " 'writing_type': 'Blog',\n",
       " 'subtopics': [SubTopic(title='Understanding Narrow AI', content=''),\n",
       "  SubTopic(title='Exploring General AI', content=''),\n",
       "  SubTopic(title='The Rise of Generative AI', content='')],\n",
       " 'max_subtopics': 3,\n",
       " 'human_feedback': 'dont talk about the history, talk about the types of of AI and gen AI',\n",
       " 'template': '\\nBlog Title\\n\\nIntroduction\\n    - Brief overview of the topic\\n    - Hook to engage the reader\\n\\nSubtopic 1: Background/Context\\n    - Explanation of key terms or concepts\\n    - Importance or relevance of the topic\\n\\nSubtopic 2: Main Discussion/Analysis\\n    - Detailed exploration of the topic\\n    - Supporting arguments or evidence\\n    - Examples or case studies\\n\\nSubtopic 3: Challenges or Considerations\\n    - Possible issues or complexities\\n    - Contrasting perspectives (if applicable)\\n\\nSubtopic 4: Solutions/Insights\\n    - Proposed solutions or strategies\\n    - Key takeaways or lessons\\n\\nConclusion\\n    - Summary of main points\\n    - Call to action or closing thoughts\\n\\nOptional: References/Further Reading\\n    - Links or citations for deeper exploration\\n'}"
      ]
     },
     "execution_count": 49,
     "metadata": {},
     "output_type": "execute_result"
    }
   ],
   "source": [
    "graph_2.invoke(None, thread_2)"
   ]
  },
  {
   "cell_type": "code",
   "execution_count": 50,
   "metadata": {},
   "outputs": [
    {
     "data": {
      "text/plain": [
       "{'configurable': {'thread_id': '2',\n",
       "  'checkpoint_ns': '',\n",
       "  'checkpoint_id': '1efa6d45-028f-6214-8004-8db8f5710d8d'}}"
      ]
     },
     "execution_count": 50,
     "metadata": {},
     "output_type": "execute_result"
    }
   ],
   "source": [
    "graph_2.update_state(thread_2,{\"human_feedback\": None})"
   ]
  },
  {
   "cell_type": "code",
   "execution_count": 51,
   "metadata": {},
   "outputs": [
    {
     "data": {
      "text/plain": [
       "{'topic': 'what is Artificial intelligence',\n",
       " 'writing_type': 'Blog',\n",
       " 'subtopics': [SubTopic(title='Understanding Narrow AI', content=''),\n",
       "  SubTopic(title='Exploring General AI', content=''),\n",
       "  SubTopic(title='The Rise of Generative AI', content='')],\n",
       " 'max_subtopics': 3,\n",
       " 'template': '\\nBlog Title\\n\\nIntroduction\\n    - Brief overview of the topic\\n    - Hook to engage the reader\\n\\nSubtopic 1: Background/Context\\n    - Explanation of key terms or concepts\\n    - Importance or relevance of the topic\\n\\nSubtopic 2: Main Discussion/Analysis\\n    - Detailed exploration of the topic\\n    - Supporting arguments or evidence\\n    - Examples or case studies\\n\\nSubtopic 3: Challenges or Considerations\\n    - Possible issues or complexities\\n    - Contrasting perspectives (if applicable)\\n\\nSubtopic 4: Solutions/Insights\\n    - Proposed solutions or strategies\\n    - Key takeaways or lessons\\n\\nConclusion\\n    - Summary of main points\\n    - Call to action or closing thoughts\\n\\nOptional: References/Further Reading\\n    - Links or citations for deeper exploration\\n'}"
      ]
     },
     "execution_count": 51,
     "metadata": {},
     "output_type": "execute_result"
    }
   ],
   "source": [
    "graph_2.get_state(thread_2).values"
   ]
  },
  {
   "cell_type": "code",
   "execution_count": 52,
   "metadata": {},
   "outputs": [
    {
     "name": "stdout",
     "output_type": "stream",
     "text": [
      "am deciding to end None\n",
      "I have started writing\n",
      "formatted string 'subtopics': [SubTopic(title='Understanding Narrow AI', content=''), SubTopic(title='Exploring General AI', content=''), SubTopic(title='The Rise of Generative AI', content='')]\n",
      "before formatted writing\n",
      "formatted_writing_prompt \n",
      "You are an expert in writing a Blog.\n",
      "You are tasked with creating a Blog with these subtopics 'subtopics': [SubTopic(title='Understanding Narrow AI', content=''), SubTopic(title='Exploring General AI', content=''), SubTopic(title='The Rise of Generative AI', content='')] under this topic what is Artificial intelligence.\n",
      "1. Analyse each subtopic and generate content under the subtopic\n",
      "2. your output should stick to this template example \n",
      "Blog Title\n",
      "\n",
      "Introduction\n",
      "    - Brief overview of the topic\n",
      "    - Hook to engage the reader\n",
      "\n",
      "Subtopic 1: Background/Context\n",
      "    - Explanation of key terms or concepts\n",
      "    - Importance or relevance of the topic\n",
      "\n",
      "Subtopic 2: Main Discussion/Analysis\n",
      "    - Detailed exploration of the topic\n",
      "    - Supporting arguments or evidence\n",
      "    - Examples or case studies\n",
      "\n",
      "Subtopic 3: Challenges or Considerations\n",
      "    - Possible issues or complexities\n",
      "    - Contrasting perspectives (if applicable)\n",
      "\n",
      "Subtopic 4: Solutions/Insights\n",
      "    - Proposed solutions or strategies\n",
      "    - Key takeaways or lessons\n",
      "\n",
      "Conclusion\n",
      "    - Summary of main points\n",
      "    - Call to action or closing thoughts\n",
      "\n",
      "Optional: References/Further Reading\n",
      "    - Links or citations for deeper exploration\n",
      "\n",
      "\n",
      "after calling the llm\n",
      "content='**Blog Title: Understanding the Different Facets of Artificial Intelligence**\\n\\n**Introduction**\\n- Artificial Intelligence (AI) is transforming the way we live, work, and interact with technology. From virtual assistants to self-driving cars, AI is becoming an integral part of our daily lives.\\n- As AI continues to evolve, it\\'s crucial to understand its different forms and implications. This blog will delve into the various types of AI, including Narrow AI, General AI, and the emerging field of Generative AI.\\n\\n**Subtopic 1: Understanding Narrow AI**\\n- Narrow AI, also known as Weak AI, refers to AI systems designed to perform a specific task. Unlike humans, these systems do not possess general intelligence or consciousness.\\n- The importance of Narrow AI lies in its ability to automate repetitive tasks, enhance efficiency, and provide specialized solutions. Examples include voice assistants like Siri and Alexa, recommendation algorithms on Netflix, and customer service chatbots.\\n\\n**Subtopic 2: Exploring General AI**\\n- General AI, or Strong AI, is the concept of machines possessing the ability to understand, learn, and apply intelligence across a wide range of tasks, similar to human cognitive abilities.\\n- While General AI remains largely theoretical, its potential impact is profound. It could revolutionize industries by performing complex tasks that require human-like understanding and decision-making. However, achieving General AI poses significant technical and ethical challenges.\\n\\n**Subtopic 3: The Rise of Generative AI**\\n- Generative AI refers to AI systems capable of creating new content, such as text, images, or music, by learning patterns from existing data. This field has gained attention with advancements in models like GPT-3 and DALL-E.\\n- Generative AI offers exciting possibilities, from creative content generation to enhancing design processes. However, it also raises concerns about originality, copyright, and the potential for misuse in creating deepfakes or misinformation.\\n\\n**Subtopic 4: Challenges or Considerations**\\n- The development of AI, particularly General and Generative AI, presents challenges such as ethical considerations, data privacy, and the potential for job displacement.\\n- There are contrasting perspectives on AI\\'s future, with some viewing it as a tool for progress and others warning of its risks. Balancing innovation with ethical responsibility is crucial.\\n\\n**Subtopic 5: Solutions/Insights**\\n- To address these challenges, it is essential to establish robust ethical guidelines and regulatory frameworks for AI development and deployment.\\n- Encouraging interdisciplinary collaboration and public engagement can help ensure AI technologies are developed responsibly and inclusively. Key takeaways include the need for transparency, accountability, and continuous learning.\\n\\n**Conclusion**\\n- AI is a multifaceted field with the potential to reshape our world. Understanding its different forms and implications is vital for harnessing its benefits while mitigating risks.\\n- As we continue to explore AI\\'s possibilities, it is crucial to remain informed and engaged in discussions about its development and impact.\\n\\n**Optional: References/Further Reading**\\n- \"Artificial Intelligence: A Guide to Intelligent Systems\" by Michael Negnevitsky\\n- \"Superintelligence: Paths, Dangers, Strategies\" by Nick Bostrom\\n- OpenAI\\'s research on Generative Pre-trained Transformers (GPT)' additional_kwargs={'refusal': None} response_metadata={'token_usage': {'completion_tokens': 643, 'prompt_tokens': 273, 'total_tokens': 916, 'completion_tokens_details': {'accepted_prediction_tokens': 0, 'audio_tokens': 0, 'reasoning_tokens': 0, 'rejected_prediction_tokens': 0}, 'prompt_tokens_details': {'audio_tokens': 0, 'cached_tokens': 0}}, 'model_name': 'gpt-4o-2024-08-06', 'system_fingerprint': 'fp_831e067d82', 'finish_reason': 'stop', 'logprobs': None} id='run-18f70d7a-4d7c-4787-b284-75e19714bf6c-0' usage_metadata={'input_tokens': 273, 'output_tokens': 643, 'total_tokens': 916, 'input_token_details': {'audio': 0, 'cache_read': 0}, 'output_token_details': {'audio': 0, 'reasoning': 0}}\n"
     ]
    },
    {
     "data": {
      "text/plain": [
       "{'topic': 'what is Artificial intelligence',\n",
       " 'writing_type': 'Blog',\n",
       " 'subtopics': [SubTopic(title='Understanding Narrow AI', content=''),\n",
       "  SubTopic(title='Exploring General AI', content=''),\n",
       "  SubTopic(title='The Rise of Generative AI', content='')],\n",
       " 'max_subtopics': 3,\n",
       " 'template': '\\nBlog Title\\n\\nIntroduction\\n    - Brief overview of the topic\\n    - Hook to engage the reader\\n\\nSubtopic 1: Background/Context\\n    - Explanation of key terms or concepts\\n    - Importance or relevance of the topic\\n\\nSubtopic 2: Main Discussion/Analysis\\n    - Detailed exploration of the topic\\n    - Supporting arguments or evidence\\n    - Examples or case studies\\n\\nSubtopic 3: Challenges or Considerations\\n    - Possible issues or complexities\\n    - Contrasting perspectives (if applicable)\\n\\nSubtopic 4: Solutions/Insights\\n    - Proposed solutions or strategies\\n    - Key takeaways or lessons\\n\\nConclusion\\n    - Summary of main points\\n    - Call to action or closing thoughts\\n\\nOptional: References/Further Reading\\n    - Links or citations for deeper exploration\\n',\n",
       " 'writing': '**Blog Title: Understanding the Different Facets of Artificial Intelligence**\\n\\n**Introduction**\\n- Artificial Intelligence (AI) is transforming the way we live, work, and interact with technology. From virtual assistants to self-driving cars, AI is becoming an integral part of our daily lives.\\n- As AI continues to evolve, it\\'s crucial to understand its different forms and implications. This blog will delve into the various types of AI, including Narrow AI, General AI, and the emerging field of Generative AI.\\n\\n**Subtopic 1: Understanding Narrow AI**\\n- Narrow AI, also known as Weak AI, refers to AI systems designed to perform a specific task. Unlike humans, these systems do not possess general intelligence or consciousness.\\n- The importance of Narrow AI lies in its ability to automate repetitive tasks, enhance efficiency, and provide specialized solutions. Examples include voice assistants like Siri and Alexa, recommendation algorithms on Netflix, and customer service chatbots.\\n\\n**Subtopic 2: Exploring General AI**\\n- General AI, or Strong AI, is the concept of machines possessing the ability to understand, learn, and apply intelligence across a wide range of tasks, similar to human cognitive abilities.\\n- While General AI remains largely theoretical, its potential impact is profound. It could revolutionize industries by performing complex tasks that require human-like understanding and decision-making. However, achieving General AI poses significant technical and ethical challenges.\\n\\n**Subtopic 3: The Rise of Generative AI**\\n- Generative AI refers to AI systems capable of creating new content, such as text, images, or music, by learning patterns from existing data. This field has gained attention with advancements in models like GPT-3 and DALL-E.\\n- Generative AI offers exciting possibilities, from creative content generation to enhancing design processes. However, it also raises concerns about originality, copyright, and the potential for misuse in creating deepfakes or misinformation.\\n\\n**Subtopic 4: Challenges or Considerations**\\n- The development of AI, particularly General and Generative AI, presents challenges such as ethical considerations, data privacy, and the potential for job displacement.\\n- There are contrasting perspectives on AI\\'s future, with some viewing it as a tool for progress and others warning of its risks. Balancing innovation with ethical responsibility is crucial.\\n\\n**Subtopic 5: Solutions/Insights**\\n- To address these challenges, it is essential to establish robust ethical guidelines and regulatory frameworks for AI development and deployment.\\n- Encouraging interdisciplinary collaboration and public engagement can help ensure AI technologies are developed responsibly and inclusively. Key takeaways include the need for transparency, accountability, and continuous learning.\\n\\n**Conclusion**\\n- AI is a multifaceted field with the potential to reshape our world. Understanding its different forms and implications is vital for harnessing its benefits while mitigating risks.\\n- As we continue to explore AI\\'s possibilities, it is crucial to remain informed and engaged in discussions about its development and impact.\\n\\n**Optional: References/Further Reading**\\n- \"Artificial Intelligence: A Guide to Intelligent Systems\" by Michael Negnevitsky\\n- \"Superintelligence: Paths, Dangers, Strategies\" by Nick Bostrom\\n- OpenAI\\'s research on Generative Pre-trained Transformers (GPT)'}"
      ]
     },
     "execution_count": 52,
     "metadata": {},
     "output_type": "execute_result"
    }
   ],
   "source": [
    "graph_2.invoke(None, thread_2)"
   ]
  },
  {
   "cell_type": "code",
   "execution_count": 53,
   "metadata": {},
   "outputs": [
    {
     "data": {
      "text/plain": [
       "'**Blog Title: Understanding the Different Facets of Artificial Intelligence**\\n\\n**Introduction**\\n- Artificial Intelligence (AI) is transforming the way we live, work, and interact with technology. From virtual assistants to self-driving cars, AI is becoming an integral part of our daily lives.\\n- As AI continues to evolve, it\\'s crucial to understand its different forms and implications. This blog will delve into the various types of AI, including Narrow AI, General AI, and the emerging field of Generative AI.\\n\\n**Subtopic 1: Understanding Narrow AI**\\n- Narrow AI, also known as Weak AI, refers to AI systems designed to perform a specific task. Unlike humans, these systems do not possess general intelligence or consciousness.\\n- The importance of Narrow AI lies in its ability to automate repetitive tasks, enhance efficiency, and provide specialized solutions. Examples include voice assistants like Siri and Alexa, recommendation algorithms on Netflix, and customer service chatbots.\\n\\n**Subtopic 2: Exploring General AI**\\n- General AI, or Strong AI, is the concept of machines possessing the ability to understand, learn, and apply intelligence across a wide range of tasks, similar to human cognitive abilities.\\n- While General AI remains largely theoretical, its potential impact is profound. It could revolutionize industries by performing complex tasks that require human-like understanding and decision-making. However, achieving General AI poses significant technical and ethical challenges.\\n\\n**Subtopic 3: The Rise of Generative AI**\\n- Generative AI refers to AI systems capable of creating new content, such as text, images, or music, by learning patterns from existing data. This field has gained attention with advancements in models like GPT-3 and DALL-E.\\n- Generative AI offers exciting possibilities, from creative content generation to enhancing design processes. However, it also raises concerns about originality, copyright, and the potential for misuse in creating deepfakes or misinformation.\\n\\n**Subtopic 4: Challenges or Considerations**\\n- The development of AI, particularly General and Generative AI, presents challenges such as ethical considerations, data privacy, and the potential for job displacement.\\n- There are contrasting perspectives on AI\\'s future, with some viewing it as a tool for progress and others warning of its risks. Balancing innovation with ethical responsibility is crucial.\\n\\n**Subtopic 5: Solutions/Insights**\\n- To address these challenges, it is essential to establish robust ethical guidelines and regulatory frameworks for AI development and deployment.\\n- Encouraging interdisciplinary collaboration and public engagement can help ensure AI technologies are developed responsibly and inclusively. Key takeaways include the need for transparency, accountability, and continuous learning.\\n\\n**Conclusion**\\n- AI is a multifaceted field with the potential to reshape our world. Understanding its different forms and implications is vital for harnessing its benefits while mitigating risks.\\n- As we continue to explore AI\\'s possibilities, it is crucial to remain informed and engaged in discussions about its development and impact.\\n\\n**Optional: References/Further Reading**\\n- \"Artificial Intelligence: A Guide to Intelligent Systems\" by Michael Negnevitsky\\n- \"Superintelligence: Paths, Dangers, Strategies\" by Nick Bostrom\\n- OpenAI\\'s research on Generative Pre-trained Transformers (GPT)'"
      ]
     },
     "execution_count": 53,
     "metadata": {},
     "output_type": "execute_result"
    }
   ],
   "source": [
    "graph_2.get_state(thread_2).values[\"writing\"]"
   ]
  },
  {
   "cell_type": "markdown",
   "metadata": {},
   "source": [
    "**Blog Title: Understanding the Different Facets of Artificial Intelligence**\\n\\n**Introduction**\\n- Artificial Intelligence (AI) is transforming the way we live, work, and interact with technology. From virtual assistants to self-driving cars, AI is becoming an integral part of our daily lives.\\n- As AI continues to evolve, it\\'s crucial to understand its different forms and implications. This blog will delve into the various types of AI, including Narrow AI, General AI, and the emerging field of Generative AI.\\n\\n**Subtopic 1: Understanding Narrow AI**\\n- Narrow AI, also known as Weak AI, refers to AI systems designed to perform a specific task. Unlike humans, these systems do not possess general intelligence or consciousness.\\n- The importance of Narrow AI lies in its ability to automate repetitive tasks, enhance efficiency, and provide specialized solutions. Examples include voice assistants like Siri and Alexa, recommendation algorithms on Netflix, and customer service chatbots.\\n\\n**Subtopic 2: Exploring General AI**\\n- General AI, or Strong AI, is the concept of machines possessing the ability to understand, learn, and apply intelligence across a wide range of tasks, similar to human cognitive abilities.\\n- While General AI remains largely theoretical, its potential impact is profound. It could revolutionize industries by performing complex tasks that require human-like understanding and decision-making. However, achieving General AI poses significant technical and ethical challenges.\\n\\n**Subtopic 3: The Rise of Generative AI**\\n- Generative AI refers to AI systems capable of creating new content, such as text, images, or music, by learning patterns from existing data. This field has gained attention with advancements in models like GPT-3 and DALL-E.\\n- Generative AI offers exciting possibilities, from creative content generation to enhancing design processes. However, it also raises concerns about originality, copyright, and the potential for misuse in creating deepfakes or misinformation.\\n\\n**Subtopic 4: Challenges or Considerations**\\n- The development of AI, particularly General and Generative AI, presents challenges such as ethical considerations, data privacy, and the potential for job displacement.\\n- There are contrasting perspectives on AI\\'s future, with some viewing it as a tool for progress and others warning of its risks. Balancing innovation with ethical responsibility is crucial.\\n\\n**Subtopic 5: Solutions/Insights**\\n- To address these challenges, it is essential to establish robust ethical guidelines and regulatory frameworks for AI development and deployment.\\n- Encouraging interdisciplinary collaboration and public engagement can help ensure AI technologies are developed responsibly and inclusively. Key takeaways include the need for transparency, accountability, and continuous learning.\\n\\n**Conclusion**\\n- AI is a multifaceted field with the potential to reshape our world. Understanding its different forms and implications is vital for harnessing its benefits while mitigating risks.\\n- As we continue to explore AI\\'s possibilities, it is crucial to remain informed and engaged in discussions about its development and impact.\\n\\n**Optional: References/Further Reading**\\n- \"Artificial Intelligence: A Guide to Intelligent Systems\" by Michael Negnevitsky\\n- \"Superintelligence: Paths, Dangers, Strategies\" by Nick Bostrom\\n- OpenAI\\'s research on Generative Pre-trained Transformers (GPT)"
   ]
  },
  {
   "cell_type": "markdown",
   "metadata": {},
   "source": []
  }
 ],
 "metadata": {
  "kernelspec": {
   "display_name": "my_env",
   "language": "python",
   "name": "python3"
  },
  "language_info": {
   "codemirror_mode": {
    "name": "ipython",
    "version": 3
   },
   "file_extension": ".py",
   "mimetype": "text/x-python",
   "name": "python",
   "nbconvert_exporter": "python",
   "pygments_lexer": "ipython3",
   "version": "3.11.5"
  }
 },
 "nbformat": 4,
 "nbformat_minor": 2
}
