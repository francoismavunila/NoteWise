{
 "cells": [
  {
   "cell_type": "code",
   "execution_count": 37,
   "metadata": {},
   "outputs": [],
   "source": [
    "import os\n",
    "from dotenv import load_dotenv\n",
    "from langchain_community.document_loaders import PyPDFLoader\n",
    "from langchain_core.vectorstores import InMemoryVectorStore\n",
    "from langchain_openai import OpenAIEmbeddings\n",
    "from langchain_unstructured import UnstructuredLoader"
   ]
  },
  {
   "cell_type": "code",
   "execution_count": 38,
   "metadata": {},
   "outputs": [],
   "source": [
    "# lets first just read the doc\n",
    "file_path = (\n",
    "    \"./docs/Reality_is_Broken.pdf\"\n",
    ")"
   ]
  },
  {
   "cell_type": "code",
   "execution_count": 39,
   "metadata": {},
   "outputs": [],
   "source": [
    "load_dotenv()\n",
    "unstructured_api = os.getenv('UNSTRUCTURED_API_KEY')"
   ]
  },
  {
   "cell_type": "code",
   "execution_count": 40,
   "metadata": {},
   "outputs": [
    {
     "data": {
      "text/plain": [
       "'sglOdSJoDJo3oSuQLVU9eLYxmeL628'"
      ]
     },
     "execution_count": 40,
     "metadata": {},
     "output_type": "execute_result"
    }
   ],
   "source": [
    "unstructured_api"
   ]
  },
  {
   "cell_type": "code",
   "execution_count": 33,
   "metadata": {},
   "outputs": [],
   "source": [
    "loader = PyPDFLoader(file_path)\n",
    "\n",
    "pages = []\n",
    "async for page in loader.alazy_load():\n",
    "    pages.append(page)"
   ]
  },
  {
   "cell_type": "code",
   "execution_count": 22,
   "metadata": {},
   "outputs": [],
   "source": [
    "vector_store = InMemoryVectorStore.from_documents(pages, OpenAIEmbeddings())"
   ]
  },
  {
   "cell_type": "code",
   "execution_count": 27,
   "metadata": {},
   "outputs": [
    {
     "name": "stdout",
     "output_type": "stream",
     "text": [
      "Page 40: What Exactly Is a Game?  | 27 \n",
      "destroy it. The four core elements of goals, rules, feedback, and voluntary \n",
      "participation remain the same—they just play out in a different order. It used \n",
      "to be that we were spoon-fed the goal and the rules, and we would then seek \n",
      "feedback on our progress. But incre\n",
      "\n",
      "Page 34: What Exactly Is a Game?  | 21 \n",
      "we just know it. There’s something essentially unique about the way games \n",
      "structure experience. \n",
      "When you strip away the genre differences and the technological complex­\n",
      "ities, all games share four defining traits: a goal, rules, a feedback system, and \n",
      "voluntary part\n",
      "\n"
     ]
    }
   ],
   "source": [
    "docs = vector_store.similarity_search(\"What is a game\", k=2)\n",
    "for doc in docs:\n",
    "    print(f'Page {doc.metadata[\"page\"]}: {doc.page_content[:300]}\\n')"
   ]
  },
  {
   "cell_type": "code",
   "execution_count": 41,
   "metadata": {},
   "outputs": [],
   "source": [
    "loader = UnstructuredLoader(\n",
    "    file_path=file_path,\n",
    "    strategy=\"hi_res\",\n",
    "    partition_via_api=True,\n",
    "    coordinates=True,\n",
    ")"
   ]
  },
  {
   "cell_type": "code",
   "execution_count": null,
   "metadata": {},
   "outputs": [
    {
     "name": "stderr",
     "output_type": "stream",
     "text": [
      "INFO: Preparing to split document for partition.\n"
     ]
    },
    {
     "name": "stderr",
     "output_type": "stream",
     "text": [
      "INFO: Starting page number set to 1\n",
      "INFO: Allow failed set to 0\n",
      "INFO: Concurrency level set to 5\n",
      "INFO: Splitting pages 1 to 402 (402 total)\n",
      "INFO: Determined optimal split size of 20 pages.\n",
      "INFO: Partitioning 20 files with 20 page(s) each.\n",
      "INFO: Partitioning 1 file with 2 page(s).\n",
      "INFO: Partitioning set #1 (pages 1-20).\n",
      "INFO: Partitioning set #2 (pages 21-40).\n",
      "INFO: Partitioning set #3 (pages 41-60).\n",
      "INFO: Partitioning set #4 (pages 61-80).\n",
      "INFO: Partitioning set #5 (pages 81-100).\n",
      "INFO: Partitioning set #6 (pages 101-120).\n",
      "INFO: Partitioning set #7 (pages 121-140).\n",
      "INFO: Partitioning set #8 (pages 141-160).\n",
      "INFO: Partitioning set #9 (pages 161-180).\n",
      "INFO: Partitioning set #10 (pages 181-200).\n",
      "INFO: Partitioning set #11 (pages 201-220).\n",
      "INFO: Partitioning set #12 (pages 221-240).\n",
      "INFO: Partitioning set #13 (pages 241-260).\n",
      "INFO: Partitioning set #14 (pages 261-280).\n",
      "INFO: Partitioning set #15 (pages 281-300).\n",
      "INFO: Partitioning set #16 (pages 301-320).\n",
      "INFO: Partitioning set #17 (pages 321-340).\n",
      "INFO: Partitioning set #18 (pages 341-360).\n",
      "INFO: Partitioning set #19 (pages 361-380).\n",
      "INFO: Partitioning set #20 (pages 381-400).\n",
      "INFO: Partitioning set #21 (pages 401-402).\n",
      "INFO: HTTP Request: POST https://api.unstructuredapp.io/general/v0/general \"HTTP/1.1 200 OK\"\n",
      "INFO: HTTP Request: POST https://api.unstructuredapp.io/general/v0/general \"HTTP/1.1 200 OK\"\n",
      "INFO: HTTP Request: POST https://api.unstructuredapp.io/general/v0/general \"HTTP/1.1 200 OK\"\n",
      "INFO: HTTP Request: POST https://api.unstructuredapp.io/general/v0/general \"HTTP/1.1 200 OK\"\n",
      "INFO: HTTP Request: POST https://api.unstructuredapp.io/general/v0/general \"HTTP/1.1 200 OK\"\n",
      "INFO: HTTP Request: POST https://api.unstructuredapp.io/general/v0/general \"HTTP/1.1 200 OK\"\n",
      "INFO: HTTP Request: POST https://api.unstructuredapp.io/general/v0/general \"HTTP/1.1 200 OK\"\n",
      "INFO: HTTP Request: POST https://api.unstructuredapp.io/general/v0/general \"HTTP/1.1 200 OK\"\n",
      "INFO: HTTP Request: POST https://api.unstructuredapp.io/general/v0/general \"HTTP/1.1 200 OK\"\n",
      "INFO: HTTP Request: POST https://api.unstructuredapp.io/general/v0/general \"HTTP/1.1 200 OK\"\n",
      "INFO: HTTP Request: POST https://api.unstructuredapp.io/general/v0/general \"HTTP/1.1 200 OK\"\n",
      "INFO: HTTP Request: POST https://api.unstructuredapp.io/general/v0/general \"HTTP/1.1 200 OK\"\n",
      "INFO: HTTP Request: POST https://api.unstructuredapp.io/general/v0/general \"HTTP/1.1 200 OK\"\n",
      "INFO: HTTP Request: POST https://api.unstructuredapp.io/general/v0/general \"HTTP/1.1 200 OK\"\n",
      "INFO: HTTP Request: POST https://api.unstructuredapp.io/general/v0/general \"HTTP/1.1 200 OK\"\n"
     ]
    }
   ],
   "source": [
    "docs = []\n",
    "for doc in loader.lazy_load():\n",
    "    docs.append(doc)"
   ]
  },
  {
   "cell_type": "code",
   "execution_count": null,
   "metadata": {},
   "outputs": [],
   "source": []
  }
 ],
 "metadata": {
  "kernelspec": {
   "display_name": "my_env",
   "language": "python",
   "name": "python3"
  },
  "language_info": {
   "codemirror_mode": {
    "name": "ipython",
    "version": 3
   },
   "file_extension": ".py",
   "mimetype": "text/x-python",
   "name": "python",
   "nbconvert_exporter": "python",
   "pygments_lexer": "ipython3",
   "version": "3.11.5"
  }
 },
 "nbformat": 4,
 "nbformat_minor": 2
}
