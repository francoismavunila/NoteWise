{
 "cells": [
  {
   "cell_type": "code",
   "execution_count": 40,
   "metadata": {},
   "outputs": [],
   "source": [
    "from langchain_community.document_loaders import PyPDFLoader\n",
    "from langchain_core.vectorstores import InMemoryVectorStore\n",
    "from langchain_text_splitters import RecursiveCharacterTextSplitter\n",
    "from langchain_openai import OpenAIEmbeddings, ChatOpenAI\n",
    "from langchain.chains import create_retrieval_chain\n",
    "from langchain.chains.combine_documents import create_stuff_documents_chain\n",
    "from langchain_core.prompts import ChatPromptTemplate"
   ]
  },
  {
   "cell_type": "code",
   "execution_count": 41,
   "metadata": {},
   "outputs": [],
   "source": [
    "llm = ChatOpenAI(model = \"gpt-3.5-turbo\")"
   ]
  },
  {
   "cell_type": "code",
   "execution_count": 9,
   "metadata": {},
   "outputs": [],
   "source": [
    "file_path = (\n",
    "    \"./docs/LoRaWAN_configuration_manual.pdf\"\n",
    ")"
   ]
  },
  {
   "cell_type": "code",
   "execution_count": 10,
   "metadata": {},
   "outputs": [],
   "source": [
    "loader = PyPDFLoader(file_path)"
   ]
  },
  {
   "cell_type": "code",
   "execution_count": 36,
   "metadata": {},
   "outputs": [],
   "source": [
    "docs = loader.load()\n",
    "text_splitter = RecursiveCharacterTextSplitter(chunk_size = 1000, chunk_overlap = 200)\n",
    "splits = text_splitter.split_documents(docs)\n",
    "vectorstore = InMemoryVectorStore.from_documents(\n",
    "    documents=docs, embedding=OpenAIEmbeddings()\n",
    ")"
   ]
  },
  {
   "cell_type": "code",
   "execution_count": 37,
   "metadata": {},
   "outputs": [
    {
     "data": {
      "text/plain": [
       "[Document(id='eb276750-3cc1-4b20-876e-4951dbf62899', metadata={'source': './docs/LoRaWAN_configuration_manual.pdf', 'page': 5}, page_content='Overview\\nLoRa and LoRaW AN\\nLoRaWAN\\nis a low-power wide-area network (LPWAN) protocol\\noptimized for low power end\\ndevices and long distance transmissions that functions on LoRa technology. It is best suited for\\nsmall-sized payload transmissions (e.g. sensor data). The LoRaWAN specification is open so\\nanyone can set up and operate a network.\\nLoRa\\nis a physical layer protocol. It operates in\\na license-free radio frequency spectrum.\\nDepending on a country or a region the different spectrum range is available to use. The unique\\nthing about LoRa is related to its spread spectrum modulation which allows it to achieve a very\\nlong-range communication at the cost of a narrow bandwidth.\\nThe typical LoRaWAN solution consists of three components: end device (sensor) Gateway\\n(converting RF to IP) and a server.\\nPeplink SW WAN routers with reliable backhaul connectivity stands in the center of the whole\\nsolution. The purpose of this guide is to provide the basic steps on how to get it started. This\\nguide details the configurations of several of the most common LoRaWAN scenarios and\\nprovides step-by-step explanations to help you get started if you are new to LoRaWAN.\\n*Note: Certain 3rd party solutions were used (e.g. Senet, The Things Network) during the creation of this\\ndocument. It is important to note that the 3rd party WEB UI pages used in this document may look\\ndifferent in the future.\\nFrequency Band selection\\nPeplink has two SKU options for LoRaWAN FlexModule Mini. The supported bands are listed\\nbelow:\\n-\\nEXM-MINI-LORA-EU >  EU868, IN865, RU864\\n-\\nEXM-MINI-LORA > US915, AU915, AS923, AS925, KR920\\nhttps://www .peplink.com\\n6\\nCopyright @ 2022 Peplink\\n'),\n",
       " Document(id='8f22ff14-53d4-4066-a7d0-9b804c17d6fb', metadata={'source': './docs/LoRaWAN_configuration_manual.pdf', 'page': 0}, page_content='LoRaWAN Conﬁguration Guide\\nUser Manual\\nVersion 1.3.0 \\nFebruary 2023\\nCOPYRIGHT  & TRADEMARKS \\nSpecifications are subject to change without notice.\\nCopyright\\n©\\n2023\\nPeplink\\nPepwave\\nLtd.\\nAll\\nRights\\nReserved.\\nPepwave\\nand\\nthe\\nPepwave\\nlogo\\nare\\ntrademarks\\nof\\nPeplink\\nInternational \\nLtd. Other brands or products mentioned may be trademarks or registered trademarks of their respective owners.\\n')]"
      ]
     },
     "execution_count": 37,
     "metadata": {},
     "output_type": "execute_result"
    }
   ],
   "source": [
    "system_prompt = (\n",
    "    \"You are an assistant for question-answering tasks. \"\n",
    "    \"Use the following pieces of retrieved context to answer \"\n",
    "    \"the question. If you don't know the answer, say that you \"\n",
    "    \"don't know. Use three sentences maximum and keep the \"\n",
    "    \"answer concise.\"\n",
    "    \"\\n\\n\"\n",
    "    \"{context}\"\n",
    ")\n",
    "prompt = ChatPromptTemplate.from_messages(\n",
    "    [\n",
    "        (\"system\", system_prompt),\n",
    "        (\"human\", \"{input}\"),\n",
    "    ]\n",
    ")\n"
   ]
  },
  {
   "cell_type": "code",
   "execution_count": null,
   "metadata": {},
   "outputs": [],
   "source": []
  }
 ],
 "metadata": {
  "kernelspec": {
   "display_name": "my_env",
   "language": "python",
   "name": "python3"
  },
  "language_info": {
   "codemirror_mode": {
    "name": "ipython",
    "version": 3
   },
   "file_extension": ".py",
   "mimetype": "text/x-python",
   "name": "python",
   "nbconvert_exporter": "python",
   "pygments_lexer": "ipython3",
   "version": "3.11.5"
  }
 },
 "nbformat": 4,
 "nbformat_minor": 2
}
